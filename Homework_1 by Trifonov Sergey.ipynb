{
 "cells": [
  {
   "cell_type": "markdown",
   "id": "a27415a8",
   "metadata": {},
   "source": [
    "# Подготовка к работе"
   ]
  },
  {
   "cell_type": "code",
   "execution_count": 1,
   "id": "1821e9df",
   "metadata": {
    "collapsed": true
   },
   "outputs": [
    {
     "name": "stdout",
     "output_type": "stream",
     "text": [
      "Collecting opendatasets\n",
      "  Downloading opendatasets-0.1.22-py3-none-any.whl (15 kB)\n",
      "Collecting tqdm (from opendatasets)\n",
      "  Downloading tqdm-4.65.0-py3-none-any.whl (77 kB)\n",
      "     ---------------------------------------- 0.0/77.1 kB ? eta -:--:--\n",
      "     --------------- ------------------------ 30.7/77.1 kB ? eta -:--:--\n",
      "     -------------------- ----------------- 41.0/77.1 kB 393.8 kB/s eta 0:00:01\n",
      "     ----------------------------------- -- 71.7/77.1 kB 563.7 kB/s eta 0:00:01\n",
      "     -------------------------------------- 77.1/77.1 kB 428.6 kB/s eta 0:00:00\n",
      "Collecting kaggle (from opendatasets)\n",
      "  Downloading kaggle-1.5.16.tar.gz (83 kB)\n",
      "     ---------------------------------------- 0.0/83.6 kB ? eta -:--:--\n",
      "     ---------------------------------- ----- 71.7/83.6 kB ? eta -:--:--\n",
      "     ---------------------------------------- 83.6/83.6 kB 1.2 MB/s eta 0:00:00\n",
      "  Installing build dependencies: started\n",
      "  Installing build dependencies: finished with status 'done'\n",
      "  Getting requirements to build wheel: started\n",
      "  Getting requirements to build wheel: finished with status 'done'\n",
      "  Preparing metadata (pyproject.toml): started\n",
      "  Preparing metadata (pyproject.toml): finished with status 'done'\n",
      "Collecting click (from opendatasets)\n",
      "  Obtaining dependency information for click from https://files.pythonhosted.org/packages/1a/70/e63223f8116931d365993d4a6b7ef653a4d920b41d03de7c59499962821f/click-8.1.6-py3-none-any.whl.metadata\n",
      "  Downloading click-8.1.6-py3-none-any.whl.metadata (3.0 kB)\n",
      "Requirement already satisfied: colorama in d:\\programms\\python 3\\lib\\site-packages (from click->opendatasets) (0.4.6)\n",
      "Requirement already satisfied: six>=1.10 in d:\\programms\\python 3\\lib\\site-packages (from kaggle->opendatasets) (1.16.0)\n",
      "Requirement already satisfied: certifi in d:\\programms\\python 3\\lib\\site-packages (from kaggle->opendatasets) (2022.12.7)\n",
      "Requirement already satisfied: python-dateutil in d:\\programms\\python 3\\lib\\site-packages (from kaggle->opendatasets) (2.8.2)\n",
      "Requirement already satisfied: requests in d:\\programms\\python 3\\lib\\site-packages (from kaggle->opendatasets) (2.28.2)\n",
      "Collecting python-slugify (from kaggle->opendatasets)\n",
      "  Downloading python_slugify-8.0.1-py2.py3-none-any.whl (9.7 kB)\n",
      "Requirement already satisfied: urllib3 in d:\\programms\\python 3\\lib\\site-packages (from kaggle->opendatasets) (1.26.14)\n",
      "Requirement already satisfied: bleach in d:\\programms\\python 3\\lib\\site-packages (from kaggle->opendatasets) (6.0.0)\n",
      "Requirement already satisfied: webencodings in d:\\programms\\python 3\\lib\\site-packages (from bleach->kaggle->opendatasets) (0.5.1)\n",
      "Collecting text-unidecode>=1.3 (from python-slugify->kaggle->opendatasets)\n",
      "  Downloading text_unidecode-1.3-py2.py3-none-any.whl (78 kB)\n",
      "     ---------------------------------------- 0.0/78.2 kB ? eta -:--:--\n",
      "     ---------------------------------------- 78.2/78.2 kB 2.2 MB/s eta 0:00:00\n",
      "Requirement already satisfied: charset-normalizer<4,>=2 in d:\\programms\\python 3\\lib\\site-packages (from requests->kaggle->opendatasets) (3.0.1)\n",
      "Requirement already satisfied: idna<4,>=2.5 in d:\\programms\\python 3\\lib\\site-packages (from requests->kaggle->opendatasets) (3.4)\n",
      "Downloading click-8.1.6-py3-none-any.whl (97 kB)\n",
      "   ---------------------------------------- 0.0/97.9 kB ? eta -:--:--\n",
      "   ---------------------------------------- 97.9/97.9 kB 5.5 MB/s eta 0:00:00\n",
      "Building wheels for collected packages: kaggle\n",
      "  Building wheel for kaggle (pyproject.toml): started\n",
      "  Building wheel for kaggle (pyproject.toml): finished with status 'done'\n",
      "  Created wheel for kaggle: filename=kaggle-1.5.16-py3-none-any.whl size=110696 sha256=e7041a097b5767050aa5f132873fc30892f0b234e5e6fc77f4275f405942f34b\n",
      "  Stored in directory: c:\\users\\serez\\appdata\\local\\pip\\cache\\wheels\\43\\4b\\fb\\736478af5e8004810081a06259f9aa2f7c3329fc5d03c2c412\n",
      "Successfully built kaggle\n",
      "Installing collected packages: text-unidecode, tqdm, python-slugify, click, kaggle, opendatasets\n",
      "Successfully installed click-8.1.6 kaggle-1.5.16 opendatasets-0.1.22 python-slugify-8.0.1 text-unidecode-1.3 tqdm-4.65.0\n",
      "Collecting pandas\n",
      "  Obtaining dependency information for pandas from https://files.pythonhosted.org/packages/ed/30/b97456e7063edac0e5a405128065f0cd2033adfe3716fb2256c186bd41d0/pandas-2.0.3-cp310-cp310-win_amd64.whl.metadata\n",
      "  Downloading pandas-2.0.3-cp310-cp310-win_amd64.whl.metadata (18 kB)\n",
      "Requirement already satisfied: python-dateutil>=2.8.2 in d:\\programms\\python 3\\lib\\site-packages (from pandas) (2.8.2)\n",
      "Collecting pytz>=2020.1 (from pandas)\n",
      "  Downloading pytz-2023.3-py2.py3-none-any.whl (502 kB)\n",
      "     ---------------------------------------- 0.0/502.3 kB ? eta -:--:--\n",
      "     -- ---------------------------------- 30.7/502.3 kB 660.6 kB/s eta 0:00:01\n",
      "     ---- -------------------------------- 61.4/502.3 kB 656.4 kB/s eta 0:00:01\n",
      "     -------- --------------------------- 112.6/502.3 kB 939.4 kB/s eta 0:00:01\n",
      "     ----------------- -------------------- 225.3/502.3 kB 1.3 MB/s eta 0:00:01\n",
      "     --------------------- ---------------- 286.7/502.3 kB 1.4 MB/s eta 0:00:01\n",
      "     --------------------------- ---------- 368.6/502.3 kB 1.5 MB/s eta 0:00:01\n",
      "     -------------------------------------  501.8/502.3 kB 1.7 MB/s eta 0:00:01\n",
      "     -------------------------------------  501.8/502.3 kB 1.7 MB/s eta 0:00:01\n",
      "     -------------------------------------- 502.3/502.3 kB 1.4 MB/s eta 0:00:00\n",
      "Collecting tzdata>=2022.1 (from pandas)\n",
      "  Downloading tzdata-2023.3-py2.py3-none-any.whl (341 kB)\n",
      "     ---------------------------------------- 0.0/341.8 kB ? eta -:--:--\n",
      "     ---------------------------------- --- 307.2/341.8 kB 9.6 MB/s eta 0:00:01\n",
      "     -------------------------------------  337.9/341.8 kB 5.2 MB/s eta 0:00:01\n",
      "     -------------------------------------- 341.8/341.8 kB 4.3 MB/s eta 0:00:00\n",
      "Collecting numpy>=1.21.0 (from pandas)\n",
      "  Obtaining dependency information for numpy>=1.21.0 from https://files.pythonhosted.org/packages/8d/07/cab4129005dba3f170dd1a2cfa312fc71100f0e26b91f7fc659b6b5abbdc/numpy-1.25.1-cp310-cp310-win_amd64.whl.metadata\n",
      "  Downloading numpy-1.25.1-cp310-cp310-win_amd64.whl.metadata (5.7 kB)\n",
      "Requirement already satisfied: six>=1.5 in d:\\programms\\python 3\\lib\\site-packages (from python-dateutil>=2.8.2->pandas) (1.16.0)\n",
      "Downloading pandas-2.0.3-cp310-cp310-win_amd64.whl (10.7 MB)\n",
      "   ---------------------------------------- 0.0/10.7 MB ? eta -:--:--\n",
      "   - -------------------------------------- 0.5/10.7 MB 14.5 MB/s eta 0:00:01\n",
      "   -- ------------------------------------- 0.5/10.7 MB 17.2 MB/s eta 0:00:01\n",
      "   -- ------------------------------------- 0.5/10.7 MB 17.2 MB/s eta 0:00:01\n",
      "   -- ------------------------------------- 0.6/10.7 MB 4.5 MB/s eta 0:00:03\n",
      "   ---- ----------------------------------- 1.2/10.7 MB 6.5 MB/s eta 0:00:02\n",
      "   ----- ---------------------------------- 1.5/10.7 MB 6.7 MB/s eta 0:00:02\n",
      "   ------ --------------------------------- 1.7/10.7 MB 6.2 MB/s eta 0:00:02\n",
      "   ------- -------------------------------- 2.1/10.7 MB 6.7 MB/s eta 0:00:02\n",
      "   -------- ------------------------------- 2.3/10.7 MB 6.5 MB/s eta 0:00:02\n",
      "   ---------- ----------------------------- 2.7/10.7 MB 6.8 MB/s eta 0:00:02\n",
      "   ----------- ---------------------------- 3.0/10.7 MB 6.6 MB/s eta 0:00:02\n",
      "   ------------ --------------------------- 3.3/10.7 MB 6.7 MB/s eta 0:00:02\n",
      "   ------------- -------------------------- 3.7/10.7 MB 6.9 MB/s eta 0:00:02\n",
      "   -------------- ------------------------- 3.8/10.7 MB 6.8 MB/s eta 0:00:02\n",
      "   -------------- ------------------------- 3.8/10.7 MB 6.8 MB/s eta 0:00:02\n",
      "   --------------- ------------------------ 4.2/10.7 MB 6.4 MB/s eta 0:00:02\n",
      "   ---------------- ----------------------- 4.5/10.7 MB 6.3 MB/s eta 0:00:01\n",
      "   ----------------- ---------------------- 4.8/10.7 MB 6.4 MB/s eta 0:00:01\n",
      "   ------------------- -------------------- 5.1/10.7 MB 6.5 MB/s eta 0:00:01\n",
      "   -------------------- ------------------- 5.5/10.7 MB 6.5 MB/s eta 0:00:01\n",
      "   --------------------- ------------------ 5.8/10.7 MB 6.5 MB/s eta 0:00:01\n",
      "   ----------------------- ---------------- 6.2/10.7 MB 6.6 MB/s eta 0:00:01\n",
      "   ------------------------ --------------- 6.6/10.7 MB 6.7 MB/s eta 0:00:01\n",
      "   -------------------------- ------------- 7.0/10.7 MB 6.7 MB/s eta 0:00:01\n",
      "   --------------------------- ------------ 7.3/10.7 MB 6.8 MB/s eta 0:00:01\n",
      "   ----------------------------- ---------- 7.7/10.7 MB 6.8 MB/s eta 0:00:01\n",
      "   ------------------------------ --------- 8.1/10.7 MB 6.8 MB/s eta 0:00:01\n",
      "   ------------------------------- -------- 8.4/10.7 MB 6.9 MB/s eta 0:00:01\n",
      "   -------------------------------- ------- 8.7/10.7 MB 7.0 MB/s eta 0:00:01\n",
      "   ---------------------------------- ----- 9.1/10.7 MB 7.0 MB/s eta 0:00:01\n",
      "   ----------------------------------- ---- 9.4/10.7 MB 7.0 MB/s eta 0:00:01\n",
      "   ------------------------------------ --- 9.7/10.7 MB 7.1 MB/s eta 0:00:01\n",
      "   ------------------------------------- -- 10.1/10.7 MB 7.1 MB/s eta 0:00:01\n",
      "   -------------------------------------- - 10.4/10.7 MB 7.0 MB/s eta 0:00:01\n",
      "   ---------------------------------------  10.7/10.7 MB 7.0 MB/s eta 0:00:01\n",
      "   ---------------------------------------- 10.7/10.7 MB 6.7 MB/s eta 0:00:00\n",
      "Downloading numpy-1.25.1-cp310-cp310-win_amd64.whl (15.0 MB)\n",
      "   ---------------------------------------- 0.0/15.0 MB ? eta -:--:--\n",
      "    --------------------------------------- 0.3/15.0 MB 10.6 MB/s eta 0:00:02\n",
      "   - -------------------------------------- 0.6/15.0 MB 10.2 MB/s eta 0:00:02\n",
      "   -- ------------------------------------- 0.9/15.0 MB 8.5 MB/s eta 0:00:02\n",
      "   --- ------------------------------------ 1.3/15.0 MB 8.4 MB/s eta 0:00:02\n",
      "   ---- ----------------------------------- 1.6/15.0 MB 8.5 MB/s eta 0:00:02\n",
      "   ----- ---------------------------------- 1.9/15.0 MB 8.0 MB/s eta 0:00:02\n",
      "   ------ --------------------------------- 2.3/15.0 MB 8.0 MB/s eta 0:00:02\n",
      "   ------ --------------------------------- 2.5/15.0 MB 8.1 MB/s eta 0:00:02\n",
      "   ------- -------------------------------- 2.9/15.0 MB 8.4 MB/s eta 0:00:02\n",
      "   -------- ------------------------------- 3.2/15.0 MB 8.1 MB/s eta 0:00:02\n",
      "   --------- ------------------------------ 3.5/15.0 MB 8.0 MB/s eta 0:00:02\n",
      "   ---------- ----------------------------- 3.9/15.0 MB 8.2 MB/s eta 0:00:02\n",
      "   ----------- ---------------------------- 4.1/15.0 MB 8.0 MB/s eta 0:00:02\n",
      "   ----------- ---------------------------- 4.5/15.0 MB 8.2 MB/s eta 0:00:02\n",
      "   ------------ --------------------------- 4.8/15.0 MB 8.2 MB/s eta 0:00:02\n",
      "   ------------- -------------------------- 5.1/15.0 MB 8.2 MB/s eta 0:00:02\n",
      "   -------------- ------------------------- 5.5/15.0 MB 8.2 MB/s eta 0:00:02\n",
      "   --------------- ------------------------ 5.9/15.0 MB 8.3 MB/s eta 0:00:02\n",
      "   ---------------- ----------------------- 6.2/15.0 MB 8.3 MB/s eta 0:00:02\n",
      "   ----------------- ---------------------- 6.5/15.0 MB 8.3 MB/s eta 0:00:02\n"
     ]
    },
    {
     "name": "stdout",
     "output_type": "stream",
     "text": [
      "   ------------------ --------------------- 6.8/15.0 MB 8.2 MB/s eta 0:00:02\n",
      "   ------------------- -------------------- 7.2/15.0 MB 8.3 MB/s eta 0:00:01\n",
      "   ------------------- -------------------- 7.5/15.0 MB 8.3 MB/s eta 0:00:01\n",
      "   --------------------- ------------------ 7.9/15.0 MB 8.3 MB/s eta 0:00:01\n",
      "   --------------------- ------------------ 8.2/15.0 MB 8.2 MB/s eta 0:00:01\n",
      "   ---------------------- ----------------- 8.6/15.0 MB 8.3 MB/s eta 0:00:01\n",
      "   ----------------------- ---------------- 8.9/15.0 MB 8.4 MB/s eta 0:00:01\n",
      "   ------------------------ --------------- 9.3/15.0 MB 8.4 MB/s eta 0:00:01\n",
      "   ------------------------- -------------- 9.5/15.0 MB 8.2 MB/s eta 0:00:01\n",
      "   -------------------------- ------------- 9.9/15.0 MB 8.4 MB/s eta 0:00:01\n",
      "   --------------------------- ------------ 10.3/15.0 MB 8.3 MB/s eta 0:00:01\n",
      "   ---------------------------- ----------- 10.5/15.0 MB 8.3 MB/s eta 0:00:01\n",
      "   ----------------------------- ---------- 11.0/15.0 MB 8.4 MB/s eta 0:00:01\n",
      "   ----------------------------- ---------- 11.2/15.0 MB 8.4 MB/s eta 0:00:01\n",
      "   ------------------------------ --------- 11.6/15.0 MB 8.3 MB/s eta 0:00:01\n",
      "   ------------------------------- -------- 12.0/15.0 MB 8.4 MB/s eta 0:00:01\n",
      "   -------------------------------- ------- 12.3/15.0 MB 8.4 MB/s eta 0:00:01\n",
      "   --------------------------------- ------ 12.7/15.0 MB 8.5 MB/s eta 0:00:01\n",
      "   ---------------------------------- ----- 13.0/15.0 MB 8.5 MB/s eta 0:00:01\n",
      "   ----------------------------------- ---- 13.4/15.0 MB 8.5 MB/s eta 0:00:01\n",
      "   ------------------------------------ --- 13.8/15.0 MB 8.6 MB/s eta 0:00:01\n",
      "   ------------------------------------- -- 14.1/15.0 MB 8.6 MB/s eta 0:00:01\n",
      "   ---------------------------------------  14.7/15.0 MB 8.7 MB/s eta 0:00:01\n",
      "   ---------------------------------------  15.0/15.0 MB 8.7 MB/s eta 0:00:01\n",
      "   ---------------------------------------  15.0/15.0 MB 8.7 MB/s eta 0:00:01\n",
      "   ---------------------------------------- 15.0/15.0 MB 8.3 MB/s eta 0:00:00\n",
      "Installing collected packages: pytz, tzdata, numpy, pandas\n",
      "Successfully installed numpy-1.25.1 pandas-2.0.3 pytz-2023.3 tzdata-2023.3\n"
     ]
    }
   ],
   "source": [
    "!pip install opendatasets\n",
    "!pip install pandas"
   ]
  },
  {
   "cell_type": "code",
   "execution_count": 2,
   "id": "50f4add4",
   "metadata": {
    "collapsed": true
   },
   "outputs": [
    {
     "name": "stdout",
     "output_type": "stream",
     "text": [
      "Please provide your Kaggle credentials to download this dataset. Learn more: http://bit.ly/kaggle-creds\n",
      "Your Kaggle username: kvazaron\n",
      "Your Kaggle Key: ········\n",
      "Downloading google-playstore-apps.zip to .\\google-playstore-apps\n"
     ]
    },
    {
     "name": "stderr",
     "output_type": "stream",
     "text": [
      "100%|███████████████████████████████████████████████████████████████████████████████| 207M/207M [00:22<00:00, 9.61MB/s]\n"
     ]
    },
    {
     "name": "stdout",
     "output_type": "stream",
     "text": [
      "\n"
     ]
    }
   ],
   "source": [
    "import opendatasets as od\n",
    "import pandas\n",
    "\n",
    "od.download(\"https://www.kaggle.com/datasets/gauthamp10/google-playstore-apps?resource=download\")"
   ]
  },
  {
   "cell_type": "markdown",
   "id": "8ae2d723",
   "metadata": {},
   "source": [
    "# 1. Как вы кратко охарактеризуете dataset, про что он?"
   ]
  },
  {
   "cell_type": "code",
   "execution_count": 4,
   "id": "5fed118a",
   "metadata": {
    "scrolled": true
   },
   "outputs": [
    {
     "data": {
      "text/html": [
       "<div>\n",
       "<style scoped>\n",
       "    .dataframe tbody tr th:only-of-type {\n",
       "        vertical-align: middle;\n",
       "    }\n",
       "\n",
       "    .dataframe tbody tr th {\n",
       "        vertical-align: top;\n",
       "    }\n",
       "\n",
       "    .dataframe thead th {\n",
       "        text-align: right;\n",
       "    }\n",
       "</style>\n",
       "<table border=\"1\" class=\"dataframe\">\n",
       "  <thead>\n",
       "    <tr style=\"text-align: right;\">\n",
       "      <th></th>\n",
       "      <th>App Name</th>\n",
       "      <th>App Id</th>\n",
       "      <th>Category</th>\n",
       "      <th>Rating</th>\n",
       "      <th>Rating Count</th>\n",
       "      <th>Installs</th>\n",
       "      <th>Minimum Installs</th>\n",
       "      <th>Maximum Installs</th>\n",
       "      <th>Free</th>\n",
       "      <th>Price</th>\n",
       "      <th>...</th>\n",
       "      <th>Developer Website</th>\n",
       "      <th>Developer Email</th>\n",
       "      <th>Released</th>\n",
       "      <th>Last Updated</th>\n",
       "      <th>Content Rating</th>\n",
       "      <th>Privacy Policy</th>\n",
       "      <th>Ad Supported</th>\n",
       "      <th>In App Purchases</th>\n",
       "      <th>Editors Choice</th>\n",
       "      <th>Scraped Time</th>\n",
       "    </tr>\n",
       "  </thead>\n",
       "  <tbody>\n",
       "    <tr>\n",
       "      <th>0</th>\n",
       "      <td>Gakondo</td>\n",
       "      <td>com.ishakwe.gakondo</td>\n",
       "      <td>Adventure</td>\n",
       "      <td>0.0</td>\n",
       "      <td>0.0</td>\n",
       "      <td>10+</td>\n",
       "      <td>10.0</td>\n",
       "      <td>15</td>\n",
       "      <td>True</td>\n",
       "      <td>0.0</td>\n",
       "      <td>...</td>\n",
       "      <td>https://beniyizibyose.tk/#/</td>\n",
       "      <td>jean21101999@gmail.com</td>\n",
       "      <td>Feb 26, 2020</td>\n",
       "      <td>Feb 26, 2020</td>\n",
       "      <td>Everyone</td>\n",
       "      <td>https://beniyizibyose.tk/projects/</td>\n",
       "      <td>False</td>\n",
       "      <td>False</td>\n",
       "      <td>False</td>\n",
       "      <td>2021-06-15 20:19:35</td>\n",
       "    </tr>\n",
       "    <tr>\n",
       "      <th>1</th>\n",
       "      <td>Ampere Battery Info</td>\n",
       "      <td>com.webserveis.batteryinfo</td>\n",
       "      <td>Tools</td>\n",
       "      <td>4.4</td>\n",
       "      <td>64.0</td>\n",
       "      <td>5,000+</td>\n",
       "      <td>5000.0</td>\n",
       "      <td>7662</td>\n",
       "      <td>True</td>\n",
       "      <td>0.0</td>\n",
       "      <td>...</td>\n",
       "      <td>https://webserveis.netlify.app/</td>\n",
       "      <td>webserveis@gmail.com</td>\n",
       "      <td>May 21, 2020</td>\n",
       "      <td>May 06, 2021</td>\n",
       "      <td>Everyone</td>\n",
       "      <td>https://dev4phones.wordpress.com/licencia-de-uso/</td>\n",
       "      <td>True</td>\n",
       "      <td>False</td>\n",
       "      <td>False</td>\n",
       "      <td>2021-06-15 20:19:35</td>\n",
       "    </tr>\n",
       "    <tr>\n",
       "      <th>2</th>\n",
       "      <td>Vibook</td>\n",
       "      <td>com.doantiepvien.crm</td>\n",
       "      <td>Productivity</td>\n",
       "      <td>0.0</td>\n",
       "      <td>0.0</td>\n",
       "      <td>50+</td>\n",
       "      <td>50.0</td>\n",
       "      <td>58</td>\n",
       "      <td>True</td>\n",
       "      <td>0.0</td>\n",
       "      <td>...</td>\n",
       "      <td>NaN</td>\n",
       "      <td>vnacrewit@gmail.com</td>\n",
       "      <td>Aug 9, 2019</td>\n",
       "      <td>Aug 19, 2019</td>\n",
       "      <td>Everyone</td>\n",
       "      <td>https://www.vietnamairlines.com/vn/en/terms-an...</td>\n",
       "      <td>False</td>\n",
       "      <td>False</td>\n",
       "      <td>False</td>\n",
       "      <td>2021-06-15 20:19:35</td>\n",
       "    </tr>\n",
       "    <tr>\n",
       "      <th>3</th>\n",
       "      <td>Smart City Trichy Public Service Vehicles 17UC...</td>\n",
       "      <td>cst.stJoseph.ug17ucs548</td>\n",
       "      <td>Communication</td>\n",
       "      <td>5.0</td>\n",
       "      <td>5.0</td>\n",
       "      <td>10+</td>\n",
       "      <td>10.0</td>\n",
       "      <td>19</td>\n",
       "      <td>True</td>\n",
       "      <td>0.0</td>\n",
       "      <td>...</td>\n",
       "      <td>http://www.climatesmarttech.com/</td>\n",
       "      <td>climatesmarttech2@gmail.com</td>\n",
       "      <td>Sep 10, 2018</td>\n",
       "      <td>Oct 13, 2018</td>\n",
       "      <td>Everyone</td>\n",
       "      <td>NaN</td>\n",
       "      <td>True</td>\n",
       "      <td>False</td>\n",
       "      <td>False</td>\n",
       "      <td>2021-06-15 20:19:35</td>\n",
       "    </tr>\n",
       "    <tr>\n",
       "      <th>4</th>\n",
       "      <td>GROW.me</td>\n",
       "      <td>com.horodyski.grower</td>\n",
       "      <td>Tools</td>\n",
       "      <td>0.0</td>\n",
       "      <td>0.0</td>\n",
       "      <td>100+</td>\n",
       "      <td>100.0</td>\n",
       "      <td>478</td>\n",
       "      <td>True</td>\n",
       "      <td>0.0</td>\n",
       "      <td>...</td>\n",
       "      <td>http://www.horodyski.com.pl</td>\n",
       "      <td>rmilekhorodyski@gmail.com</td>\n",
       "      <td>Feb 21, 2020</td>\n",
       "      <td>Nov 12, 2018</td>\n",
       "      <td>Everyone</td>\n",
       "      <td>http://www.horodyski.com.pl</td>\n",
       "      <td>False</td>\n",
       "      <td>False</td>\n",
       "      <td>False</td>\n",
       "      <td>2021-06-15 20:19:35</td>\n",
       "    </tr>\n",
       "    <tr>\n",
       "      <th>...</th>\n",
       "      <td>...</td>\n",
       "      <td>...</td>\n",
       "      <td>...</td>\n",
       "      <td>...</td>\n",
       "      <td>...</td>\n",
       "      <td>...</td>\n",
       "      <td>...</td>\n",
       "      <td>...</td>\n",
       "      <td>...</td>\n",
       "      <td>...</td>\n",
       "      <td>...</td>\n",
       "      <td>...</td>\n",
       "      <td>...</td>\n",
       "      <td>...</td>\n",
       "      <td>...</td>\n",
       "      <td>...</td>\n",
       "      <td>...</td>\n",
       "      <td>...</td>\n",
       "      <td>...</td>\n",
       "      <td>...</td>\n",
       "      <td>...</td>\n",
       "    </tr>\n",
       "    <tr>\n",
       "      <th>2312939</th>\n",
       "      <td>大俠客—熱血歸來</td>\n",
       "      <td>com.rxsj.ssjj</td>\n",
       "      <td>Role Playing</td>\n",
       "      <td>4.3</td>\n",
       "      <td>16775.0</td>\n",
       "      <td>100,000+</td>\n",
       "      <td>100000.0</td>\n",
       "      <td>337109</td>\n",
       "      <td>True</td>\n",
       "      <td>0.0</td>\n",
       "      <td>...</td>\n",
       "      <td>http://www.4399sy.com.hk/</td>\n",
       "      <td>ssjjcomhk@gmail.com</td>\n",
       "      <td>NaN</td>\n",
       "      <td>Jun 01, 2021</td>\n",
       "      <td>Teen</td>\n",
       "      <td>http://a.4399sy.com.hk/user/aggreement</td>\n",
       "      <td>False</td>\n",
       "      <td>False</td>\n",
       "      <td>False</td>\n",
       "      <td>2021-06-16 12:59:18</td>\n",
       "    </tr>\n",
       "    <tr>\n",
       "      <th>2312940</th>\n",
       "      <td>ORU Online</td>\n",
       "      <td>com.threedream.oruonline</td>\n",
       "      <td>Education</td>\n",
       "      <td>0.0</td>\n",
       "      <td>0.0</td>\n",
       "      <td>100+</td>\n",
       "      <td>100.0</td>\n",
       "      <td>430</td>\n",
       "      <td>True</td>\n",
       "      <td>0.0</td>\n",
       "      <td>...</td>\n",
       "      <td>http://www.oru.edu/</td>\n",
       "      <td>3DreamDeveloper@gmail.com</td>\n",
       "      <td>Jan 17, 2018</td>\n",
       "      <td>Feb 02, 2018</td>\n",
       "      <td>Everyone</td>\n",
       "      <td>http://www.oru.edu/about-oru/privacy-policy.php</td>\n",
       "      <td>False</td>\n",
       "      <td>False</td>\n",
       "      <td>False</td>\n",
       "      <td>2021-06-16 12:59:19</td>\n",
       "    </tr>\n",
       "    <tr>\n",
       "      <th>2312941</th>\n",
       "      <td>Data Structure</td>\n",
       "      <td>datastructure.appoworld.datastucture</td>\n",
       "      <td>Education</td>\n",
       "      <td>0.0</td>\n",
       "      <td>0.0</td>\n",
       "      <td>100+</td>\n",
       "      <td>100.0</td>\n",
       "      <td>202</td>\n",
       "      <td>True</td>\n",
       "      <td>0.0</td>\n",
       "      <td>...</td>\n",
       "      <td>NaN</td>\n",
       "      <td>appoworld.official@gmail.com</td>\n",
       "      <td>Aug 19, 2018</td>\n",
       "      <td>Aug 19, 2018</td>\n",
       "      <td>Everyone</td>\n",
       "      <td>https://appoworld.000webhostapp.com/datastruct...</td>\n",
       "      <td>False</td>\n",
       "      <td>False</td>\n",
       "      <td>False</td>\n",
       "      <td>2021-06-16 12:59:19</td>\n",
       "    </tr>\n",
       "    <tr>\n",
       "      <th>2312942</th>\n",
       "      <td>Devi Suktam</td>\n",
       "      <td>ishan.devi.suktam</td>\n",
       "      <td>Music &amp; Audio</td>\n",
       "      <td>3.5</td>\n",
       "      <td>8.0</td>\n",
       "      <td>1,000+</td>\n",
       "      <td>1000.0</td>\n",
       "      <td>2635</td>\n",
       "      <td>True</td>\n",
       "      <td>0.0</td>\n",
       "      <td>...</td>\n",
       "      <td>https://a70f78905.app-ads-txt.com</td>\n",
       "      <td>ruchisono@gmail.com</td>\n",
       "      <td>Aug 1, 2016</td>\n",
       "      <td>May 05, 2021</td>\n",
       "      <td>Everyone</td>\n",
       "      <td>https://docs.google.com/document/d/1x-9reZuLRX...</td>\n",
       "      <td>True</td>\n",
       "      <td>False</td>\n",
       "      <td>False</td>\n",
       "      <td>2021-06-16 12:59:19</td>\n",
       "    </tr>\n",
       "    <tr>\n",
       "      <th>2312943</th>\n",
       "      <td>Biliyor Musun - Sonsuz Yarış</td>\n",
       "      <td>com.yyazilim.biliyormusun</td>\n",
       "      <td>Trivia</td>\n",
       "      <td>5.0</td>\n",
       "      <td>12.0</td>\n",
       "      <td>100+</td>\n",
       "      <td>100.0</td>\n",
       "      <td>354</td>\n",
       "      <td>True</td>\n",
       "      <td>0.0</td>\n",
       "      <td>...</td>\n",
       "      <td>NaN</td>\n",
       "      <td>yyazilimdevelop@gmail.com</td>\n",
       "      <td>Aug 9, 2019</td>\n",
       "      <td>Aug 19, 2019</td>\n",
       "      <td>Everyone</td>\n",
       "      <td>https://biliyor-musun-sons.flycricket.io/priva...</td>\n",
       "      <td>True</td>\n",
       "      <td>False</td>\n",
       "      <td>False</td>\n",
       "      <td>2021-06-16 12:59:19</td>\n",
       "    </tr>\n",
       "  </tbody>\n",
       "</table>\n",
       "<p>2312944 rows × 24 columns</p>\n",
       "</div>"
      ],
      "text/plain": [
       "                                                  App Name  \\\n",
       "0                                                  Gakondo   \n",
       "1                                      Ampere Battery Info   \n",
       "2                                                   Vibook   \n",
       "3        Smart City Trichy Public Service Vehicles 17UC...   \n",
       "4                                                  GROW.me   \n",
       "...                                                    ...   \n",
       "2312939                                           大俠客—熱血歸來   \n",
       "2312940                                         ORU Online   \n",
       "2312941                                     Data Structure   \n",
       "2312942                                        Devi Suktam   \n",
       "2312943                       Biliyor Musun - Sonsuz Yarış   \n",
       "\n",
       "                                       App Id       Category  Rating  \\\n",
       "0                         com.ishakwe.gakondo      Adventure     0.0   \n",
       "1                  com.webserveis.batteryinfo          Tools     4.4   \n",
       "2                        com.doantiepvien.crm   Productivity     0.0   \n",
       "3                     cst.stJoseph.ug17ucs548  Communication     5.0   \n",
       "4                        com.horodyski.grower          Tools     0.0   \n",
       "...                                       ...            ...     ...   \n",
       "2312939                         com.rxsj.ssjj   Role Playing     4.3   \n",
       "2312940              com.threedream.oruonline      Education     0.0   \n",
       "2312941  datastructure.appoworld.datastucture      Education     0.0   \n",
       "2312942                     ishan.devi.suktam  Music & Audio     3.5   \n",
       "2312943             com.yyazilim.biliyormusun         Trivia     5.0   \n",
       "\n",
       "         Rating Count  Installs  Minimum Installs  Maximum Installs  Free  \\\n",
       "0                 0.0       10+              10.0                15  True   \n",
       "1                64.0    5,000+            5000.0              7662  True   \n",
       "2                 0.0       50+              50.0                58  True   \n",
       "3                 5.0       10+              10.0                19  True   \n",
       "4                 0.0      100+             100.0               478  True   \n",
       "...               ...       ...               ...               ...   ...   \n",
       "2312939       16775.0  100,000+          100000.0            337109  True   \n",
       "2312940           0.0      100+             100.0               430  True   \n",
       "2312941           0.0      100+             100.0               202  True   \n",
       "2312942           8.0    1,000+            1000.0              2635  True   \n",
       "2312943          12.0      100+             100.0               354  True   \n",
       "\n",
       "         Price  ...                  Developer Website  \\\n",
       "0          0.0  ...        https://beniyizibyose.tk/#/   \n",
       "1          0.0  ...    https://webserveis.netlify.app/   \n",
       "2          0.0  ...                                NaN   \n",
       "3          0.0  ...   http://www.climatesmarttech.com/   \n",
       "4          0.0  ...        http://www.horodyski.com.pl   \n",
       "...        ...  ...                                ...   \n",
       "2312939    0.0  ...          http://www.4399sy.com.hk/   \n",
       "2312940    0.0  ...                http://www.oru.edu/   \n",
       "2312941    0.0  ...                                NaN   \n",
       "2312942    0.0  ...  https://a70f78905.app-ads-txt.com   \n",
       "2312943    0.0  ...                                NaN   \n",
       "\n",
       "                      Developer Email      Released  Last Updated  \\\n",
       "0              jean21101999@gmail.com  Feb 26, 2020  Feb 26, 2020   \n",
       "1                webserveis@gmail.com  May 21, 2020  May 06, 2021   \n",
       "2                 vnacrewit@gmail.com   Aug 9, 2019  Aug 19, 2019   \n",
       "3         climatesmarttech2@gmail.com  Sep 10, 2018  Oct 13, 2018   \n",
       "4           rmilekhorodyski@gmail.com  Feb 21, 2020  Nov 12, 2018   \n",
       "...                               ...           ...           ...   \n",
       "2312939           ssjjcomhk@gmail.com           NaN  Jun 01, 2021   \n",
       "2312940     3DreamDeveloper@gmail.com  Jan 17, 2018  Feb 02, 2018   \n",
       "2312941  appoworld.official@gmail.com  Aug 19, 2018  Aug 19, 2018   \n",
       "2312942           ruchisono@gmail.com   Aug 1, 2016  May 05, 2021   \n",
       "2312943     yyazilimdevelop@gmail.com   Aug 9, 2019  Aug 19, 2019   \n",
       "\n",
       "        Content Rating                                     Privacy Policy  \\\n",
       "0             Everyone                 https://beniyizibyose.tk/projects/   \n",
       "1             Everyone  https://dev4phones.wordpress.com/licencia-de-uso/   \n",
       "2             Everyone  https://www.vietnamairlines.com/vn/en/terms-an...   \n",
       "3             Everyone                                                NaN   \n",
       "4             Everyone                        http://www.horodyski.com.pl   \n",
       "...                ...                                                ...   \n",
       "2312939           Teen             http://a.4399sy.com.hk/user/aggreement   \n",
       "2312940       Everyone    http://www.oru.edu/about-oru/privacy-policy.php   \n",
       "2312941       Everyone  https://appoworld.000webhostapp.com/datastruct...   \n",
       "2312942       Everyone  https://docs.google.com/document/d/1x-9reZuLRX...   \n",
       "2312943       Everyone  https://biliyor-musun-sons.flycricket.io/priva...   \n",
       "\n",
       "        Ad Supported In App Purchases Editors Choice         Scraped Time  \n",
       "0              False            False          False  2021-06-15 20:19:35  \n",
       "1               True            False          False  2021-06-15 20:19:35  \n",
       "2              False            False          False  2021-06-15 20:19:35  \n",
       "3               True            False          False  2021-06-15 20:19:35  \n",
       "4              False            False          False  2021-06-15 20:19:35  \n",
       "...              ...              ...            ...                  ...  \n",
       "2312939        False            False          False  2021-06-16 12:59:18  \n",
       "2312940        False            False          False  2021-06-16 12:59:19  \n",
       "2312941        False            False          False  2021-06-16 12:59:19  \n",
       "2312942         True            False          False  2021-06-16 12:59:19  \n",
       "2312943         True            False          False  2021-06-16 12:59:19  \n",
       "\n",
       "[2312944 rows x 24 columns]"
      ]
     },
     "execution_count": 4,
     "metadata": {},
     "output_type": "execute_result"
    }
   ],
   "source": [
    "import pandas as pd\n",
    "dataset_file = \"D:\\Innopolis_AI\\homework1\\google-playstore-apps\\Google-Playstore.csv\"\n",
    "data_frame = pd.read_csv(dataset_file)\n",
    "data_frame"
   ]
  },
  {
   "cell_type": "markdown",
   "id": "f08b1ef9",
   "metadata": {},
   "source": [
    "**Ответ:** При первом знакомстве с dataset я могу сказать, что:\n",
    "1. Dataset про приложения с Google Play Store\n",
    "2. Его масштаб огромен (свыше 2 млн. строчек и 24 столбца)\n",
    "3. Dataset включает в себя разнообразные данные, такие как название, рейтинг, email разработчика и другие характеристики\n",
    "4. Он может использоваться для анализа приложений, а также для прогнозирования успеха новых приложений на платформе Google Play."
   ]
  },
  {
   "cell_type": "markdown",
   "id": "b118579d",
   "metadata": {},
   "source": [
    "# 2. Сколько в среднем скачиваний у приложений в выборке?"
   ]
  },
  {
   "cell_type": "markdown",
   "id": "c8ea4e34",
   "metadata": {},
   "source": [
    "Сперва избавимся от пустых значений. Использую функцию isna вместе с sum, чтобы увидеть количество пропущенных значений в каждом столбце."
   ]
  },
  {
   "cell_type": "code",
   "execution_count": 5,
   "id": "2e097bc7",
   "metadata": {
    "scrolled": true
   },
   "outputs": [
    {
     "data": {
      "text/plain": [
       "App Name                  5\n",
       "App Id                    0\n",
       "Category                  0\n",
       "Rating                22883\n",
       "Rating Count          22883\n",
       "Installs                107\n",
       "Minimum Installs        107\n",
       "Maximum Installs          0\n",
       "Free                      0\n",
       "Price                     0\n",
       "Currency                135\n",
       "Size                    196\n",
       "Minimum Android        6530\n",
       "Developer Id             33\n",
       "Developer Website    760835\n",
       "Developer Email          31\n",
       "Released              71053\n",
       "Last Updated              0\n",
       "Content Rating            0\n",
       "Privacy Policy       420953\n",
       "Ad Supported              0\n",
       "In App Purchases          0\n",
       "Editors Choice            0\n",
       "Scraped Time              0\n",
       "dtype: int64"
      ]
     },
     "execution_count": 5,
     "metadata": {},
     "output_type": "execute_result"
    }
   ],
   "source": [
    "data_frame.isna().sum()"
   ]
  },
  {
   "cell_type": "markdown",
   "id": "6004d777",
   "metadata": {},
   "source": [
    "Выделю критичные данные для анализа и заполню отствующие значения нулями."
   ]
  },
  {
   "cell_type": "code",
   "execution_count": 6,
   "id": "81c96571",
   "metadata": {},
   "outputs": [],
   "source": [
    "critical_columns_numeric = [\"Minimum Installs\", \"Maximum Installs\"]\n",
    "critical_columns_categorial = [\"App Name\"]\n",
    "data_frame[critical_columns_numeric] = data_frame[critical_columns_numeric].fillna(0)"
   ]
  },
  {
   "cell_type": "markdown",
   "id": "f93c7f59",
   "metadata": {},
   "source": [
    "Воспользуюсь функцией Pandas dropna(), чтобы вернуть DataFrame с удаленными из него записями NA."
   ]
  },
  {
   "cell_type": "code",
   "execution_count": 7,
   "id": "fe70ecbe",
   "metadata": {
    "scrolled": true
   },
   "outputs": [
    {
     "data": {
      "text/html": [
       "<div>\n",
       "<style scoped>\n",
       "    .dataframe tbody tr th:only-of-type {\n",
       "        vertical-align: middle;\n",
       "    }\n",
       "\n",
       "    .dataframe tbody tr th {\n",
       "        vertical-align: top;\n",
       "    }\n",
       "\n",
       "    .dataframe thead th {\n",
       "        text-align: right;\n",
       "    }\n",
       "</style>\n",
       "<table border=\"1\" class=\"dataframe\">\n",
       "  <thead>\n",
       "    <tr style=\"text-align: right;\">\n",
       "      <th></th>\n",
       "      <th>App Name</th>\n",
       "      <th>App Id</th>\n",
       "      <th>Category</th>\n",
       "      <th>Rating</th>\n",
       "      <th>Rating Count</th>\n",
       "      <th>Installs</th>\n",
       "      <th>Minimum Installs</th>\n",
       "      <th>Maximum Installs</th>\n",
       "      <th>Free</th>\n",
       "      <th>Price</th>\n",
       "      <th>...</th>\n",
       "      <th>Developer Website</th>\n",
       "      <th>Developer Email</th>\n",
       "      <th>Released</th>\n",
       "      <th>Last Updated</th>\n",
       "      <th>Content Rating</th>\n",
       "      <th>Privacy Policy</th>\n",
       "      <th>Ad Supported</th>\n",
       "      <th>In App Purchases</th>\n",
       "      <th>Editors Choice</th>\n",
       "      <th>Scraped Time</th>\n",
       "    </tr>\n",
       "  </thead>\n",
       "  <tbody>\n",
       "    <tr>\n",
       "      <th>0</th>\n",
       "      <td>Gakondo</td>\n",
       "      <td>com.ishakwe.gakondo</td>\n",
       "      <td>Adventure</td>\n",
       "      <td>0.0</td>\n",
       "      <td>0.0</td>\n",
       "      <td>10+</td>\n",
       "      <td>10.0</td>\n",
       "      <td>15</td>\n",
       "      <td>True</td>\n",
       "      <td>0.0</td>\n",
       "      <td>...</td>\n",
       "      <td>https://beniyizibyose.tk/#/</td>\n",
       "      <td>jean21101999@gmail.com</td>\n",
       "      <td>Feb 26, 2020</td>\n",
       "      <td>Feb 26, 2020</td>\n",
       "      <td>Everyone</td>\n",
       "      <td>https://beniyizibyose.tk/projects/</td>\n",
       "      <td>False</td>\n",
       "      <td>False</td>\n",
       "      <td>False</td>\n",
       "      <td>2021-06-15 20:19:35</td>\n",
       "    </tr>\n",
       "    <tr>\n",
       "      <th>1</th>\n",
       "      <td>Ampere Battery Info</td>\n",
       "      <td>com.webserveis.batteryinfo</td>\n",
       "      <td>Tools</td>\n",
       "      <td>4.4</td>\n",
       "      <td>64.0</td>\n",
       "      <td>5,000+</td>\n",
       "      <td>5000.0</td>\n",
       "      <td>7662</td>\n",
       "      <td>True</td>\n",
       "      <td>0.0</td>\n",
       "      <td>...</td>\n",
       "      <td>https://webserveis.netlify.app/</td>\n",
       "      <td>webserveis@gmail.com</td>\n",
       "      <td>May 21, 2020</td>\n",
       "      <td>May 06, 2021</td>\n",
       "      <td>Everyone</td>\n",
       "      <td>https://dev4phones.wordpress.com/licencia-de-uso/</td>\n",
       "      <td>True</td>\n",
       "      <td>False</td>\n",
       "      <td>False</td>\n",
       "      <td>2021-06-15 20:19:35</td>\n",
       "    </tr>\n",
       "    <tr>\n",
       "      <th>2</th>\n",
       "      <td>Vibook</td>\n",
       "      <td>com.doantiepvien.crm</td>\n",
       "      <td>Productivity</td>\n",
       "      <td>0.0</td>\n",
       "      <td>0.0</td>\n",
       "      <td>50+</td>\n",
       "      <td>50.0</td>\n",
       "      <td>58</td>\n",
       "      <td>True</td>\n",
       "      <td>0.0</td>\n",
       "      <td>...</td>\n",
       "      <td>NaN</td>\n",
       "      <td>vnacrewit@gmail.com</td>\n",
       "      <td>Aug 9, 2019</td>\n",
       "      <td>Aug 19, 2019</td>\n",
       "      <td>Everyone</td>\n",
       "      <td>https://www.vietnamairlines.com/vn/en/terms-an...</td>\n",
       "      <td>False</td>\n",
       "      <td>False</td>\n",
       "      <td>False</td>\n",
       "      <td>2021-06-15 20:19:35</td>\n",
       "    </tr>\n",
       "    <tr>\n",
       "      <th>3</th>\n",
       "      <td>Smart City Trichy Public Service Vehicles 17UC...</td>\n",
       "      <td>cst.stJoseph.ug17ucs548</td>\n",
       "      <td>Communication</td>\n",
       "      <td>5.0</td>\n",
       "      <td>5.0</td>\n",
       "      <td>10+</td>\n",
       "      <td>10.0</td>\n",
       "      <td>19</td>\n",
       "      <td>True</td>\n",
       "      <td>0.0</td>\n",
       "      <td>...</td>\n",
       "      <td>http://www.climatesmarttech.com/</td>\n",
       "      <td>climatesmarttech2@gmail.com</td>\n",
       "      <td>Sep 10, 2018</td>\n",
       "      <td>Oct 13, 2018</td>\n",
       "      <td>Everyone</td>\n",
       "      <td>NaN</td>\n",
       "      <td>True</td>\n",
       "      <td>False</td>\n",
       "      <td>False</td>\n",
       "      <td>2021-06-15 20:19:35</td>\n",
       "    </tr>\n",
       "    <tr>\n",
       "      <th>4</th>\n",
       "      <td>GROW.me</td>\n",
       "      <td>com.horodyski.grower</td>\n",
       "      <td>Tools</td>\n",
       "      <td>0.0</td>\n",
       "      <td>0.0</td>\n",
       "      <td>100+</td>\n",
       "      <td>100.0</td>\n",
       "      <td>478</td>\n",
       "      <td>True</td>\n",
       "      <td>0.0</td>\n",
       "      <td>...</td>\n",
       "      <td>http://www.horodyski.com.pl</td>\n",
       "      <td>rmilekhorodyski@gmail.com</td>\n",
       "      <td>Feb 21, 2020</td>\n",
       "      <td>Nov 12, 2018</td>\n",
       "      <td>Everyone</td>\n",
       "      <td>http://www.horodyski.com.pl</td>\n",
       "      <td>False</td>\n",
       "      <td>False</td>\n",
       "      <td>False</td>\n",
       "      <td>2021-06-15 20:19:35</td>\n",
       "    </tr>\n",
       "    <tr>\n",
       "      <th>...</th>\n",
       "      <td>...</td>\n",
       "      <td>...</td>\n",
       "      <td>...</td>\n",
       "      <td>...</td>\n",
       "      <td>...</td>\n",
       "      <td>...</td>\n",
       "      <td>...</td>\n",
       "      <td>...</td>\n",
       "      <td>...</td>\n",
       "      <td>...</td>\n",
       "      <td>...</td>\n",
       "      <td>...</td>\n",
       "      <td>...</td>\n",
       "      <td>...</td>\n",
       "      <td>...</td>\n",
       "      <td>...</td>\n",
       "      <td>...</td>\n",
       "      <td>...</td>\n",
       "      <td>...</td>\n",
       "      <td>...</td>\n",
       "      <td>...</td>\n",
       "    </tr>\n",
       "    <tr>\n",
       "      <th>2312939</th>\n",
       "      <td>大俠客—熱血歸來</td>\n",
       "      <td>com.rxsj.ssjj</td>\n",
       "      <td>Role Playing</td>\n",
       "      <td>4.3</td>\n",
       "      <td>16775.0</td>\n",
       "      <td>100,000+</td>\n",
       "      <td>100000.0</td>\n",
       "      <td>337109</td>\n",
       "      <td>True</td>\n",
       "      <td>0.0</td>\n",
       "      <td>...</td>\n",
       "      <td>http://www.4399sy.com.hk/</td>\n",
       "      <td>ssjjcomhk@gmail.com</td>\n",
       "      <td>NaN</td>\n",
       "      <td>Jun 01, 2021</td>\n",
       "      <td>Teen</td>\n",
       "      <td>http://a.4399sy.com.hk/user/aggreement</td>\n",
       "      <td>False</td>\n",
       "      <td>False</td>\n",
       "      <td>False</td>\n",
       "      <td>2021-06-16 12:59:18</td>\n",
       "    </tr>\n",
       "    <tr>\n",
       "      <th>2312940</th>\n",
       "      <td>ORU Online</td>\n",
       "      <td>com.threedream.oruonline</td>\n",
       "      <td>Education</td>\n",
       "      <td>0.0</td>\n",
       "      <td>0.0</td>\n",
       "      <td>100+</td>\n",
       "      <td>100.0</td>\n",
       "      <td>430</td>\n",
       "      <td>True</td>\n",
       "      <td>0.0</td>\n",
       "      <td>...</td>\n",
       "      <td>http://www.oru.edu/</td>\n",
       "      <td>3DreamDeveloper@gmail.com</td>\n",
       "      <td>Jan 17, 2018</td>\n",
       "      <td>Feb 02, 2018</td>\n",
       "      <td>Everyone</td>\n",
       "      <td>http://www.oru.edu/about-oru/privacy-policy.php</td>\n",
       "      <td>False</td>\n",
       "      <td>False</td>\n",
       "      <td>False</td>\n",
       "      <td>2021-06-16 12:59:19</td>\n",
       "    </tr>\n",
       "    <tr>\n",
       "      <th>2312941</th>\n",
       "      <td>Data Structure</td>\n",
       "      <td>datastructure.appoworld.datastucture</td>\n",
       "      <td>Education</td>\n",
       "      <td>0.0</td>\n",
       "      <td>0.0</td>\n",
       "      <td>100+</td>\n",
       "      <td>100.0</td>\n",
       "      <td>202</td>\n",
       "      <td>True</td>\n",
       "      <td>0.0</td>\n",
       "      <td>...</td>\n",
       "      <td>NaN</td>\n",
       "      <td>appoworld.official@gmail.com</td>\n",
       "      <td>Aug 19, 2018</td>\n",
       "      <td>Aug 19, 2018</td>\n",
       "      <td>Everyone</td>\n",
       "      <td>https://appoworld.000webhostapp.com/datastruct...</td>\n",
       "      <td>False</td>\n",
       "      <td>False</td>\n",
       "      <td>False</td>\n",
       "      <td>2021-06-16 12:59:19</td>\n",
       "    </tr>\n",
       "    <tr>\n",
       "      <th>2312942</th>\n",
       "      <td>Devi Suktam</td>\n",
       "      <td>ishan.devi.suktam</td>\n",
       "      <td>Music &amp; Audio</td>\n",
       "      <td>3.5</td>\n",
       "      <td>8.0</td>\n",
       "      <td>1,000+</td>\n",
       "      <td>1000.0</td>\n",
       "      <td>2635</td>\n",
       "      <td>True</td>\n",
       "      <td>0.0</td>\n",
       "      <td>...</td>\n",
       "      <td>https://a70f78905.app-ads-txt.com</td>\n",
       "      <td>ruchisono@gmail.com</td>\n",
       "      <td>Aug 1, 2016</td>\n",
       "      <td>May 05, 2021</td>\n",
       "      <td>Everyone</td>\n",
       "      <td>https://docs.google.com/document/d/1x-9reZuLRX...</td>\n",
       "      <td>True</td>\n",
       "      <td>False</td>\n",
       "      <td>False</td>\n",
       "      <td>2021-06-16 12:59:19</td>\n",
       "    </tr>\n",
       "    <tr>\n",
       "      <th>2312943</th>\n",
       "      <td>Biliyor Musun - Sonsuz Yarış</td>\n",
       "      <td>com.yyazilim.biliyormusun</td>\n",
       "      <td>Trivia</td>\n",
       "      <td>5.0</td>\n",
       "      <td>12.0</td>\n",
       "      <td>100+</td>\n",
       "      <td>100.0</td>\n",
       "      <td>354</td>\n",
       "      <td>True</td>\n",
       "      <td>0.0</td>\n",
       "      <td>...</td>\n",
       "      <td>NaN</td>\n",
       "      <td>yyazilimdevelop@gmail.com</td>\n",
       "      <td>Aug 9, 2019</td>\n",
       "      <td>Aug 19, 2019</td>\n",
       "      <td>Everyone</td>\n",
       "      <td>https://biliyor-musun-sons.flycricket.io/priva...</td>\n",
       "      <td>True</td>\n",
       "      <td>False</td>\n",
       "      <td>False</td>\n",
       "      <td>2021-06-16 12:59:19</td>\n",
       "    </tr>\n",
       "  </tbody>\n",
       "</table>\n",
       "<p>2312939 rows × 24 columns</p>\n",
       "</div>"
      ],
      "text/plain": [
       "                                                  App Name  \\\n",
       "0                                                  Gakondo   \n",
       "1                                      Ampere Battery Info   \n",
       "2                                                   Vibook   \n",
       "3        Smart City Trichy Public Service Vehicles 17UC...   \n",
       "4                                                  GROW.me   \n",
       "...                                                    ...   \n",
       "2312939                                           大俠客—熱血歸來   \n",
       "2312940                                         ORU Online   \n",
       "2312941                                     Data Structure   \n",
       "2312942                                        Devi Suktam   \n",
       "2312943                       Biliyor Musun - Sonsuz Yarış   \n",
       "\n",
       "                                       App Id       Category  Rating  \\\n",
       "0                         com.ishakwe.gakondo      Adventure     0.0   \n",
       "1                  com.webserveis.batteryinfo          Tools     4.4   \n",
       "2                        com.doantiepvien.crm   Productivity     0.0   \n",
       "3                     cst.stJoseph.ug17ucs548  Communication     5.0   \n",
       "4                        com.horodyski.grower          Tools     0.0   \n",
       "...                                       ...            ...     ...   \n",
       "2312939                         com.rxsj.ssjj   Role Playing     4.3   \n",
       "2312940              com.threedream.oruonline      Education     0.0   \n",
       "2312941  datastructure.appoworld.datastucture      Education     0.0   \n",
       "2312942                     ishan.devi.suktam  Music & Audio     3.5   \n",
       "2312943             com.yyazilim.biliyormusun         Trivia     5.0   \n",
       "\n",
       "         Rating Count  Installs  Minimum Installs  Maximum Installs  Free  \\\n",
       "0                 0.0       10+              10.0                15  True   \n",
       "1                64.0    5,000+            5000.0              7662  True   \n",
       "2                 0.0       50+              50.0                58  True   \n",
       "3                 5.0       10+              10.0                19  True   \n",
       "4                 0.0      100+             100.0               478  True   \n",
       "...               ...       ...               ...               ...   ...   \n",
       "2312939       16775.0  100,000+          100000.0            337109  True   \n",
       "2312940           0.0      100+             100.0               430  True   \n",
       "2312941           0.0      100+             100.0               202  True   \n",
       "2312942           8.0    1,000+            1000.0              2635  True   \n",
       "2312943          12.0      100+             100.0               354  True   \n",
       "\n",
       "         Price  ...                  Developer Website  \\\n",
       "0          0.0  ...        https://beniyizibyose.tk/#/   \n",
       "1          0.0  ...    https://webserveis.netlify.app/   \n",
       "2          0.0  ...                                NaN   \n",
       "3          0.0  ...   http://www.climatesmarttech.com/   \n",
       "4          0.0  ...        http://www.horodyski.com.pl   \n",
       "...        ...  ...                                ...   \n",
       "2312939    0.0  ...          http://www.4399sy.com.hk/   \n",
       "2312940    0.0  ...                http://www.oru.edu/   \n",
       "2312941    0.0  ...                                NaN   \n",
       "2312942    0.0  ...  https://a70f78905.app-ads-txt.com   \n",
       "2312943    0.0  ...                                NaN   \n",
       "\n",
       "                      Developer Email      Released  Last Updated  \\\n",
       "0              jean21101999@gmail.com  Feb 26, 2020  Feb 26, 2020   \n",
       "1                webserveis@gmail.com  May 21, 2020  May 06, 2021   \n",
       "2                 vnacrewit@gmail.com   Aug 9, 2019  Aug 19, 2019   \n",
       "3         climatesmarttech2@gmail.com  Sep 10, 2018  Oct 13, 2018   \n",
       "4           rmilekhorodyski@gmail.com  Feb 21, 2020  Nov 12, 2018   \n",
       "...                               ...           ...           ...   \n",
       "2312939           ssjjcomhk@gmail.com           NaN  Jun 01, 2021   \n",
       "2312940     3DreamDeveloper@gmail.com  Jan 17, 2018  Feb 02, 2018   \n",
       "2312941  appoworld.official@gmail.com  Aug 19, 2018  Aug 19, 2018   \n",
       "2312942           ruchisono@gmail.com   Aug 1, 2016  May 05, 2021   \n",
       "2312943     yyazilimdevelop@gmail.com   Aug 9, 2019  Aug 19, 2019   \n",
       "\n",
       "        Content Rating                                     Privacy Policy  \\\n",
       "0             Everyone                 https://beniyizibyose.tk/projects/   \n",
       "1             Everyone  https://dev4phones.wordpress.com/licencia-de-uso/   \n",
       "2             Everyone  https://www.vietnamairlines.com/vn/en/terms-an...   \n",
       "3             Everyone                                                NaN   \n",
       "4             Everyone                        http://www.horodyski.com.pl   \n",
       "...                ...                                                ...   \n",
       "2312939           Teen             http://a.4399sy.com.hk/user/aggreement   \n",
       "2312940       Everyone    http://www.oru.edu/about-oru/privacy-policy.php   \n",
       "2312941       Everyone  https://appoworld.000webhostapp.com/datastruct...   \n",
       "2312942       Everyone  https://docs.google.com/document/d/1x-9reZuLRX...   \n",
       "2312943       Everyone  https://biliyor-musun-sons.flycricket.io/priva...   \n",
       "\n",
       "        Ad Supported In App Purchases Editors Choice         Scraped Time  \n",
       "0              False            False          False  2021-06-15 20:19:35  \n",
       "1               True            False          False  2021-06-15 20:19:35  \n",
       "2              False            False          False  2021-06-15 20:19:35  \n",
       "3               True            False          False  2021-06-15 20:19:35  \n",
       "4              False            False          False  2021-06-15 20:19:35  \n",
       "...              ...              ...            ...                  ...  \n",
       "2312939        False            False          False  2021-06-16 12:59:18  \n",
       "2312940        False            False          False  2021-06-16 12:59:19  \n",
       "2312941        False            False          False  2021-06-16 12:59:19  \n",
       "2312942         True            False          False  2021-06-16 12:59:19  \n",
       "2312943         True            False          False  2021-06-16 12:59:19  \n",
       "\n",
       "[2312939 rows x 24 columns]"
      ]
     },
     "execution_count": 7,
     "metadata": {},
     "output_type": "execute_result"
    }
   ],
   "source": [
    "clean_data_frame = data_frame.dropna(subset=critical_columns_categorial)\n",
    "clean_data_frame"
   ]
  },
  {
   "cell_type": "markdown",
   "id": "8792fc92",
   "metadata": {},
   "source": [
    "Сделаю проверку."
   ]
  },
  {
   "cell_type": "code",
   "execution_count": 8,
   "id": "dba107f2",
   "metadata": {
    "scrolled": true
   },
   "outputs": [
    {
     "data": {
      "text/plain": [
       "App Name                  0\n",
       "App Id                    0\n",
       "Category                  0\n",
       "Rating                22883\n",
       "Rating Count          22883\n",
       "Installs                107\n",
       "Minimum Installs          0\n",
       "Maximum Installs          0\n",
       "Free                      0\n",
       "Price                     0\n",
       "Currency                135\n",
       "Size                    196\n",
       "Minimum Android        6530\n",
       "Developer Id             33\n",
       "Developer Website    760831\n",
       "Developer Email          31\n",
       "Released              71053\n",
       "Last Updated              0\n",
       "Content Rating            0\n",
       "Privacy Policy       420950\n",
       "Ad Supported              0\n",
       "In App Purchases          0\n",
       "Editors Choice            0\n",
       "Scraped Time              0\n",
       "dtype: int64"
      ]
     },
     "execution_count": 8,
     "metadata": {},
     "output_type": "execute_result"
    }
   ],
   "source": [
    "clean_data_frame.isna().sum()"
   ]
  },
  {
   "cell_type": "markdown",
   "id": "7c28d531",
   "metadata": {},
   "source": [
    "Все отлично, теперь пустых значений в выбранных элементах dataset'а нет, поэтому ценность такого набора данных не понизится."
   ]
  },
  {
   "cell_type": "markdown",
   "id": "b553cf23",
   "metadata": {},
   "source": [
    "Сначала для ответа на вопрос применю самый примитивный способ оценивания центрального положения набора данных - mean()."
   ]
  },
  {
   "cell_type": "code",
   "execution_count": 9,
   "id": "4a248295",
   "metadata": {},
   "outputs": [
    {
     "data": {
      "text/plain": [
       "251819"
      ]
     },
     "execution_count": 9,
     "metadata": {},
     "output_type": "execute_result"
    }
   ],
   "source": [
    "int((clean_data_frame[\"Minimum Installs\"].mean() + clean_data_frame[\"Maximum Installs\"].mean())/2)"
   ]
  },
  {
   "cell_type": "markdown",
   "id": "a8e5d799",
   "metadata": {},
   "source": [
    "**Ответ:** 251 819 скачиваний в среднем у приложений в выборке."
   ]
  },
  {
   "cell_type": "markdown",
   "id": "27db564d",
   "metadata": {},
   "source": [
    "# 3.\tСколько в среднем стоит приложение в выборке?"
   ]
  },
  {
   "cell_type": "markdown",
   "id": "57d534bb",
   "metadata": {},
   "source": [
    "Снова выберу релевантные строки и столбцы."
   ]
  },
  {
   "cell_type": "code",
   "execution_count": 54,
   "id": "48d4ca0e",
   "metadata": {
    "scrolled": true
   },
   "outputs": [
    {
     "data": {
      "text/html": [
       "<div>\n",
       "<style scoped>\n",
       "    .dataframe tbody tr th:only-of-type {\n",
       "        vertical-align: middle;\n",
       "    }\n",
       "\n",
       "    .dataframe tbody tr th {\n",
       "        vertical-align: top;\n",
       "    }\n",
       "\n",
       "    .dataframe thead th {\n",
       "        text-align: right;\n",
       "    }\n",
       "</style>\n",
       "<table border=\"1\" class=\"dataframe\">\n",
       "  <thead>\n",
       "    <tr style=\"text-align: right;\">\n",
       "      <th></th>\n",
       "      <th>App Name</th>\n",
       "      <th>App Id</th>\n",
       "      <th>Category</th>\n",
       "      <th>Rating</th>\n",
       "      <th>Rating Count</th>\n",
       "      <th>Installs</th>\n",
       "      <th>Minimum Installs</th>\n",
       "      <th>Maximum Installs</th>\n",
       "      <th>Free</th>\n",
       "      <th>Price</th>\n",
       "      <th>...</th>\n",
       "      <th>Developer Website</th>\n",
       "      <th>Developer Email</th>\n",
       "      <th>Released</th>\n",
       "      <th>Last Updated</th>\n",
       "      <th>Content Rating</th>\n",
       "      <th>Privacy Policy</th>\n",
       "      <th>Ad Supported</th>\n",
       "      <th>In App Purchases</th>\n",
       "      <th>Editors Choice</th>\n",
       "      <th>Scraped Time</th>\n",
       "    </tr>\n",
       "  </thead>\n",
       "  <tbody>\n",
       "    <tr>\n",
       "      <th>273</th>\n",
       "      <td>Limitless Paint</td>\n",
       "      <td>com.bytescaffold.limitlesspaint</td>\n",
       "      <td>Tools</td>\n",
       "      <td>4.5</td>\n",
       "      <td>236.0</td>\n",
       "      <td>10,000+</td>\n",
       "      <td>10000.0</td>\n",
       "      <td>34125</td>\n",
       "      <td>False</td>\n",
       "      <td>1.99</td>\n",
       "      <td>...</td>\n",
       "      <td>NaN</td>\n",
       "      <td>traista.rafael@yahoo.com</td>\n",
       "      <td>Nov 30, 2018</td>\n",
       "      <td>Apr 08, 2019</td>\n",
       "      <td>Everyone</td>\n",
       "      <td>http://htmlpreview.github.io/?https://github.c...</td>\n",
       "      <td>False</td>\n",
       "      <td>False</td>\n",
       "      <td>False</td>\n",
       "      <td>2021-06-15 20:19:52</td>\n",
       "    </tr>\n",
       "    <tr>\n",
       "      <th>296</th>\n",
       "      <td>Standalone Golf GPS by Hole19</td>\n",
       "      <td>com.hole19golf.wear</td>\n",
       "      <td>Sports</td>\n",
       "      <td>2.8</td>\n",
       "      <td>160.0</td>\n",
       "      <td>10,000+</td>\n",
       "      <td>10000.0</td>\n",
       "      <td>10407</td>\n",
       "      <td>False</td>\n",
       "      <td>4.99</td>\n",
       "      <td>...</td>\n",
       "      <td>https://www.hole19golf.com</td>\n",
       "      <td>help@hole19golf.com</td>\n",
       "      <td>Feb 7, 2017</td>\n",
       "      <td>Dec 22, 2020</td>\n",
       "      <td>Everyone</td>\n",
       "      <td>https://www.hole19golf.com/terms/#PrivacyPolicy</td>\n",
       "      <td>False</td>\n",
       "      <td>False</td>\n",
       "      <td>False</td>\n",
       "      <td>2021-06-15 20:19:53</td>\n",
       "    </tr>\n",
       "    <tr>\n",
       "      <th>417</th>\n",
       "      <td>Calculator + Widget 21 themes</td>\n",
       "      <td>makatea.pro.calculator.widget</td>\n",
       "      <td>Tools</td>\n",
       "      <td>3.5</td>\n",
       "      <td>468.0</td>\n",
       "      <td>10,000+</td>\n",
       "      <td>10000.0</td>\n",
       "      <td>12019</td>\n",
       "      <td>False</td>\n",
       "      <td>0.99</td>\n",
       "      <td>...</td>\n",
       "      <td>NaN</td>\n",
       "      <td>light.makatea@gmail.com</td>\n",
       "      <td>Oct 4, 2012</td>\n",
       "      <td>Feb 09, 2014</td>\n",
       "      <td>Everyone</td>\n",
       "      <td>NaN</td>\n",
       "      <td>False</td>\n",
       "      <td>False</td>\n",
       "      <td>False</td>\n",
       "      <td>2021-06-15 20:20:00</td>\n",
       "    </tr>\n",
       "    <tr>\n",
       "      <th>554</th>\n",
       "      <td>莎士比亞11連環錯（英漢對照）</td>\n",
       "      <td>tw.com.mebook.generic4719180217042</td>\n",
       "      <td>Education</td>\n",
       "      <td>0.0</td>\n",
       "      <td>0.0</td>\n",
       "      <td>1+</td>\n",
       "      <td>1.0</td>\n",
       "      <td>2</td>\n",
       "      <td>False</td>\n",
       "      <td>2.99</td>\n",
       "      <td>...</td>\n",
       "      <td>http://www.mebook.com.tw</td>\n",
       "      <td>welcome@mail.soyong.com.tw</td>\n",
       "      <td>Mar 15, 2017</td>\n",
       "      <td>Mar 15, 2017</td>\n",
       "      <td>Everyone</td>\n",
       "      <td>http://mobile.mebook-buy.com/android/privacy.html</td>\n",
       "      <td>False</td>\n",
       "      <td>False</td>\n",
       "      <td>False</td>\n",
       "      <td>2021-06-15 20:20:07</td>\n",
       "    </tr>\n",
       "    <tr>\n",
       "      <th>618</th>\n",
       "      <td>Theme Park Simulator</td>\n",
       "      <td>com.bestridesimulators.theme.park.simulator.game</td>\n",
       "      <td>Simulation</td>\n",
       "      <td>3.8</td>\n",
       "      <td>1158.0</td>\n",
       "      <td>10,000+</td>\n",
       "      <td>10000.0</td>\n",
       "      <td>23644</td>\n",
       "      <td>False</td>\n",
       "      <td>0.99</td>\n",
       "      <td>...</td>\n",
       "      <td>http://bestridesimulators.com</td>\n",
       "      <td>cuentas.brs@gmail.com</td>\n",
       "      <td>Nov 3, 2020</td>\n",
       "      <td>Feb 05, 2021</td>\n",
       "      <td>Everyone</td>\n",
       "      <td>https://bestridesimulators.com/lunaria-games-s-l/</td>\n",
       "      <td>True</td>\n",
       "      <td>True</td>\n",
       "      <td>False</td>\n",
       "      <td>2021-06-15 20:20:11</td>\n",
       "    </tr>\n",
       "    <tr>\n",
       "      <th>...</th>\n",
       "      <td>...</td>\n",
       "      <td>...</td>\n",
       "      <td>...</td>\n",
       "      <td>...</td>\n",
       "      <td>...</td>\n",
       "      <td>...</td>\n",
       "      <td>...</td>\n",
       "      <td>...</td>\n",
       "      <td>...</td>\n",
       "      <td>...</td>\n",
       "      <td>...</td>\n",
       "      <td>...</td>\n",
       "      <td>...</td>\n",
       "      <td>...</td>\n",
       "      <td>...</td>\n",
       "      <td>...</td>\n",
       "      <td>...</td>\n",
       "      <td>...</td>\n",
       "      <td>...</td>\n",
       "      <td>...</td>\n",
       "      <td>...</td>\n",
       "    </tr>\n",
       "    <tr>\n",
       "      <th>2312658</th>\n",
       "      <td>VA-Beast Essentials-2</td>\n",
       "      <td>com.planeth.vabeastessentials2</td>\n",
       "      <td>Music &amp; Audio</td>\n",
       "      <td>4.5</td>\n",
       "      <td>19.0</td>\n",
       "      <td>1,000+</td>\n",
       "      <td>1000.0</td>\n",
       "      <td>2686</td>\n",
       "      <td>False</td>\n",
       "      <td>1.99</td>\n",
       "      <td>...</td>\n",
       "      <td>http://www.planet-h.com/</td>\n",
       "      <td>gstomper@planet-h.com</td>\n",
       "      <td>Jul 7, 2014</td>\n",
       "      <td>Oct 03, 2020</td>\n",
       "      <td>Everyone</td>\n",
       "      <td>https://www.planet-h.com/privacy/</td>\n",
       "      <td>False</td>\n",
       "      <td>False</td>\n",
       "      <td>False</td>\n",
       "      <td>2021-06-16 12:59:03</td>\n",
       "    </tr>\n",
       "    <tr>\n",
       "      <th>2312686</th>\n",
       "      <td>Blue Infinitum Theme - Dark</td>\n",
       "      <td>com.razerx.theme.blueinfinitum2</td>\n",
       "      <td>Personalization</td>\n",
       "      <td>4.7</td>\n",
       "      <td>165.0</td>\n",
       "      <td>1,000+</td>\n",
       "      <td>1000.0</td>\n",
       "      <td>1554</td>\n",
       "      <td>False</td>\n",
       "      <td>1.49</td>\n",
       "      <td>...</td>\n",
       "      <td>NaN</td>\n",
       "      <td>razer.psn@gmail.com</td>\n",
       "      <td>Nov 2, 2012</td>\n",
       "      <td>Sep 06, 2014</td>\n",
       "      <td>Everyone</td>\n",
       "      <td>NaN</td>\n",
       "      <td>False</td>\n",
       "      <td>False</td>\n",
       "      <td>False</td>\n",
       "      <td>2021-06-16 12:59:05</td>\n",
       "    </tr>\n",
       "    <tr>\n",
       "      <th>2312703</th>\n",
       "      <td>RPG Tears Revolude</td>\n",
       "      <td>kemco.wws.revolude</td>\n",
       "      <td>Role Playing</td>\n",
       "      <td>4.5</td>\n",
       "      <td>568.0</td>\n",
       "      <td>5,000+</td>\n",
       "      <td>5000.0</td>\n",
       "      <td>6702</td>\n",
       "      <td>False</td>\n",
       "      <td>7.99</td>\n",
       "      <td>...</td>\n",
       "      <td>http://www.kemco.jp/</td>\n",
       "      <td>android@kemco.jp</td>\n",
       "      <td>Jul 16, 2015</td>\n",
       "      <td>Jul 16, 2015</td>\n",
       "      <td>Teen</td>\n",
       "      <td>http://www.kemco.jp/app_pp/privacy.html</td>\n",
       "      <td>True</td>\n",
       "      <td>True</td>\n",
       "      <td>False</td>\n",
       "      <td>2021-06-16 12:59:06</td>\n",
       "    </tr>\n",
       "    <tr>\n",
       "      <th>2312803</th>\n",
       "      <td>New Cute Kitty Cats &amp; Animals LOVE. WAStickerApps</td>\n",
       "      <td>com.wastickerapps.wasticker.sticker.emoji.new....</td>\n",
       "      <td>Entertainment</td>\n",
       "      <td>0.0</td>\n",
       "      <td>0.0</td>\n",
       "      <td>1+</td>\n",
       "      <td>1.0</td>\n",
       "      <td>3</td>\n",
       "      <td>False</td>\n",
       "      <td>0.99</td>\n",
       "      <td>...</td>\n",
       "      <td>https://sites.google.com/view/wastickerapps-wa...</td>\n",
       "      <td>wastickerappsstickers@gmail.com</td>\n",
       "      <td>Feb 6, 2019</td>\n",
       "      <td>Feb 06, 2019</td>\n",
       "      <td>Everyone</td>\n",
       "      <td>https://sites.google.com/view/wastickerapps-wa...</td>\n",
       "      <td>False</td>\n",
       "      <td>False</td>\n",
       "      <td>False</td>\n",
       "      <td>2021-06-16 12:59:11</td>\n",
       "    </tr>\n",
       "    <tr>\n",
       "      <th>2312927</th>\n",
       "      <td>Gear Ratio Calculator</td>\n",
       "      <td>jp.abt.lopnur.gearratiocalc</td>\n",
       "      <td>Sports</td>\n",
       "      <td>0.0</td>\n",
       "      <td>0.0</td>\n",
       "      <td>100+</td>\n",
       "      <td>100.0</td>\n",
       "      <td>201</td>\n",
       "      <td>False</td>\n",
       "      <td>2.49</td>\n",
       "      <td>...</td>\n",
       "      <td>http://www.abt.jp</td>\n",
       "      <td>abtdev@gmail.com</td>\n",
       "      <td>Jun 19, 2012</td>\n",
       "      <td>Nov 09, 2012</td>\n",
       "      <td>Everyone</td>\n",
       "      <td>NaN</td>\n",
       "      <td>False</td>\n",
       "      <td>False</td>\n",
       "      <td>False</td>\n",
       "      <td>2021-06-16 12:59:18</td>\n",
       "    </tr>\n",
       "  </tbody>\n",
       "</table>\n",
       "<p>44933 rows × 24 columns</p>\n",
       "</div>"
      ],
      "text/plain": [
       "                                                  App Name  \\\n",
       "273                                        Limitless Paint   \n",
       "296                          Standalone Golf GPS by Hole19   \n",
       "417                          Calculator + Widget 21 themes   \n",
       "554                                        莎士比亞11連環錯（英漢對照）   \n",
       "618                                   Theme Park Simulator   \n",
       "...                                                    ...   \n",
       "2312658                              VA-Beast Essentials-2   \n",
       "2312686                        Blue Infinitum Theme - Dark   \n",
       "2312703                                 RPG Tears Revolude   \n",
       "2312803  New Cute Kitty Cats & Animals LOVE. WAStickerApps   \n",
       "2312927                              Gear Ratio Calculator   \n",
       "\n",
       "                                                    App Id         Category  \\\n",
       "273                        com.bytescaffold.limitlesspaint            Tools   \n",
       "296                                    com.hole19golf.wear           Sports   \n",
       "417                          makatea.pro.calculator.widget            Tools   \n",
       "554                     tw.com.mebook.generic4719180217042        Education   \n",
       "618       com.bestridesimulators.theme.park.simulator.game       Simulation   \n",
       "...                                                    ...              ...   \n",
       "2312658                     com.planeth.vabeastessentials2    Music & Audio   \n",
       "2312686                    com.razerx.theme.blueinfinitum2  Personalization   \n",
       "2312703                                 kemco.wws.revolude     Role Playing   \n",
       "2312803  com.wastickerapps.wasticker.sticker.emoji.new....    Entertainment   \n",
       "2312927                        jp.abt.lopnur.gearratiocalc           Sports   \n",
       "\n",
       "         Rating  Rating Count Installs  Minimum Installs  Maximum Installs  \\\n",
       "273         4.5         236.0  10,000+           10000.0             34125   \n",
       "296         2.8         160.0  10,000+           10000.0             10407   \n",
       "417         3.5         468.0  10,000+           10000.0             12019   \n",
       "554         0.0           0.0       1+               1.0                 2   \n",
       "618         3.8        1158.0  10,000+           10000.0             23644   \n",
       "...         ...           ...      ...               ...               ...   \n",
       "2312658     4.5          19.0   1,000+            1000.0              2686   \n",
       "2312686     4.7         165.0   1,000+            1000.0              1554   \n",
       "2312703     4.5         568.0   5,000+            5000.0              6702   \n",
       "2312803     0.0           0.0       1+               1.0                 3   \n",
       "2312927     0.0           0.0     100+             100.0               201   \n",
       "\n",
       "          Free  Price  ...                                  Developer Website  \\\n",
       "273      False   1.99  ...                                                NaN   \n",
       "296      False   4.99  ...                         https://www.hole19golf.com   \n",
       "417      False   0.99  ...                                                NaN   \n",
       "554      False   2.99  ...                           http://www.mebook.com.tw   \n",
       "618      False   0.99  ...                      http://bestridesimulators.com   \n",
       "...        ...    ...  ...                                                ...   \n",
       "2312658  False   1.99  ...                           http://www.planet-h.com/   \n",
       "2312686  False   1.49  ...                                                NaN   \n",
       "2312703  False   7.99  ...                               http://www.kemco.jp/   \n",
       "2312803  False   0.99  ...  https://sites.google.com/view/wastickerapps-wa...   \n",
       "2312927  False   2.49  ...                                  http://www.abt.jp   \n",
       "\n",
       "                         Developer Email      Released  Last Updated  \\\n",
       "273             traista.rafael@yahoo.com  Nov 30, 2018  Apr 08, 2019   \n",
       "296                  help@hole19golf.com   Feb 7, 2017  Dec 22, 2020   \n",
       "417              light.makatea@gmail.com   Oct 4, 2012  Feb 09, 2014   \n",
       "554           welcome@mail.soyong.com.tw  Mar 15, 2017  Mar 15, 2017   \n",
       "618                cuentas.brs@gmail.com   Nov 3, 2020  Feb 05, 2021   \n",
       "...                                  ...           ...           ...   \n",
       "2312658            gstomper@planet-h.com   Jul 7, 2014  Oct 03, 2020   \n",
       "2312686              razer.psn@gmail.com   Nov 2, 2012  Sep 06, 2014   \n",
       "2312703                 android@kemco.jp  Jul 16, 2015  Jul 16, 2015   \n",
       "2312803  wastickerappsstickers@gmail.com   Feb 6, 2019  Feb 06, 2019   \n",
       "2312927                 abtdev@gmail.com  Jun 19, 2012  Nov 09, 2012   \n",
       "\n",
       "        Content Rating                                     Privacy Policy  \\\n",
       "273           Everyone  http://htmlpreview.github.io/?https://github.c...   \n",
       "296           Everyone    https://www.hole19golf.com/terms/#PrivacyPolicy   \n",
       "417           Everyone                                                NaN   \n",
       "554           Everyone  http://mobile.mebook-buy.com/android/privacy.html   \n",
       "618           Everyone  https://bestridesimulators.com/lunaria-games-s-l/   \n",
       "...                ...                                                ...   \n",
       "2312658       Everyone                  https://www.planet-h.com/privacy/   \n",
       "2312686       Everyone                                                NaN   \n",
       "2312703           Teen            http://www.kemco.jp/app_pp/privacy.html   \n",
       "2312803       Everyone  https://sites.google.com/view/wastickerapps-wa...   \n",
       "2312927       Everyone                                                NaN   \n",
       "\n",
       "        Ad Supported In App Purchases Editors Choice         Scraped Time  \n",
       "273            False            False          False  2021-06-15 20:19:52  \n",
       "296            False            False          False  2021-06-15 20:19:53  \n",
       "417            False            False          False  2021-06-15 20:20:00  \n",
       "554            False            False          False  2021-06-15 20:20:07  \n",
       "618             True             True          False  2021-06-15 20:20:11  \n",
       "...              ...              ...            ...                  ...  \n",
       "2312658        False            False          False  2021-06-16 12:59:03  \n",
       "2312686        False            False          False  2021-06-16 12:59:05  \n",
       "2312703         True             True          False  2021-06-16 12:59:06  \n",
       "2312803        False            False          False  2021-06-16 12:59:11  \n",
       "2312927        False            False          False  2021-06-16 12:59:18  \n",
       "\n",
       "[44933 rows x 24 columns]"
      ]
     },
     "execution_count": 54,
     "metadata": {},
     "output_type": "execute_result"
    }
   ],
   "source": [
    "three_data_frame = data_frame.dropna(subset=['App Name', 'Price'])\n",
    "three_data_frame.query(\"Price != 0\")"
   ]
  },
  {
   "cell_type": "markdown",
   "id": "e81a1f86",
   "metadata": {},
   "source": [
    "Найду среднюю стоимость приложения (грубо) c учетом бесплатных приложений.\n"
   ]
  },
  {
   "cell_type": "code",
   "execution_count": 11,
   "id": "6ee666eb",
   "metadata": {},
   "outputs": [
    {
     "data": {
      "text/plain": [
       "0.10349938207319774"
      ]
     },
     "execution_count": 11,
     "metadata": {},
     "output_type": "execute_result"
    }
   ],
   "source": [
    "three_data_frame[\"Price\"].mean()"
   ]
  },
  {
   "cell_type": "markdown",
   "id": "be45b264",
   "metadata": {},
   "source": [
    "Меня смущает число, поэтому перепроверю визуально через гистограмму."
   ]
  },
  {
   "cell_type": "code",
   "execution_count": 14,
   "id": "244b4993",
   "metadata": {
    "collapsed": true
   },
   "outputs": [
    {
     "name": "stdout",
     "output_type": "stream",
     "text": [
      "Collecting matplotlib\n",
      "  Obtaining dependency information for matplotlib from https://files.pythonhosted.org/packages/ff/1f/2b83c7acf453318a80dc619e99fc30a663b2c1fb18be3d358a96addfecd9/matplotlib-3.7.2-cp310-cp310-win_amd64.whl.metadata\n",
      "  Downloading matplotlib-3.7.2-cp310-cp310-win_amd64.whl.metadata (5.8 kB)\n",
      "Collecting contourpy>=1.0.1 (from matplotlib)\n",
      "  Obtaining dependency information for contourpy>=1.0.1 from https://files.pythonhosted.org/packages/94/0a/5eb57dd395fade977786b2d2c98c2bee8234358794be44422fe58a719d42/contourpy-1.1.0-cp310-cp310-win_amd64.whl.metadata\n",
      "  Downloading contourpy-1.1.0-cp310-cp310-win_amd64.whl.metadata (5.7 kB)\n",
      "Collecting cycler>=0.10 (from matplotlib)\n",
      "  Downloading cycler-0.11.0-py3-none-any.whl (6.4 kB)\n",
      "Collecting fonttools>=4.22.0 (from matplotlib)\n",
      "  Obtaining dependency information for fonttools>=4.22.0 from https://files.pythonhosted.org/packages/70/b2/475c5d9a84aac2366a305c38fb7ca4f166421897277a6d367741f650b439/fonttools-4.41.0-cp310-cp310-win_amd64.whl.metadata\n",
      "  Downloading fonttools-4.41.0-cp310-cp310-win_amd64.whl.metadata (152 kB)\n",
      "     ---------------------------------------- 0.0/152.5 kB ? eta -:--:--\n",
      "     ------- ------------------------------- 30.7/152.5 kB 1.3 MB/s eta 0:00:01\n",
      "     -------------- ---------------------- 61.4/152.5 kB 656.4 kB/s eta 0:00:01\n",
      "     -------------------------- --------- 112.6/152.5 kB 930.9 kB/s eta 0:00:01\n",
      "     --------------------------------- -- 143.4/152.5 kB 847.9 kB/s eta 0:00:01\n",
      "     ------------------------------------ 152.5/152.5 kB 649.4 kB/s eta 0:00:00\n",
      "Collecting kiwisolver>=1.0.1 (from matplotlib)\n",
      "  Downloading kiwisolver-1.4.4-cp310-cp310-win_amd64.whl (55 kB)\n",
      "     ---------------------------------------- 0.0/55.3 kB ? eta -:--:--\n",
      "     ---------------------------------------- 55.3/55.3 kB 3.0 MB/s eta 0:00:00\n",
      "Requirement already satisfied: numpy>=1.20 in d:\\programms\\python 3\\lib\\site-packages (from matplotlib) (1.25.1)\n",
      "Requirement already satisfied: packaging>=20.0 in d:\\programms\\python 3\\lib\\site-packages (from matplotlib) (23.0)\n",
      "Collecting pillow>=6.2.0 (from matplotlib)\n",
      "  Obtaining dependency information for pillow>=6.2.0 from https://files.pythonhosted.org/packages/d0/4f/faebe1180e5e6ad6330c539dda7f6081182157393ba6816a438f759a0e59/Pillow-10.0.0-cp310-cp310-win_amd64.whl.metadata\n",
      "  Downloading Pillow-10.0.0-cp310-cp310-win_amd64.whl.metadata (9.6 kB)\n",
      "Collecting pyparsing<3.1,>=2.3.1 (from matplotlib)\n",
      "  Downloading pyparsing-3.0.9-py3-none-any.whl (98 kB)\n",
      "     ---------------------------------------- 0.0/98.3 kB ? eta -:--:--\n",
      "     ---------------------------------------- 98.3/98.3 kB 5.9 MB/s eta 0:00:00\n",
      "Requirement already satisfied: python-dateutil>=2.7 in d:\\programms\\python 3\\lib\\site-packages (from matplotlib) (2.8.2)\n",
      "Requirement already satisfied: six>=1.5 in d:\\programms\\python 3\\lib\\site-packages (from python-dateutil>=2.7->matplotlib) (1.16.0)\n",
      "Downloading matplotlib-3.7.2-cp310-cp310-win_amd64.whl (7.5 MB)\n",
      "   ---------------------------------------- 0.0/7.5 MB ? eta -:--:--\n",
      "    --------------------------------------- 0.1/7.5 MB ? eta -:--:--\n",
      "    --------------------------------------- 0.2/7.5 MB 1.8 MB/s eta 0:00:05\n",
      "   - -------------------------------------- 0.4/7.5 MB 2.9 MB/s eta 0:00:03\n",
      "   -- ------------------------------------- 0.5/7.5 MB 3.0 MB/s eta 0:00:03\n",
      "   --- ------------------------------------ 0.7/7.5 MB 3.6 MB/s eta 0:00:02\n",
      "   ----- ---------------------------------- 1.0/7.5 MB 3.8 MB/s eta 0:00:02\n",
      "   -------- ------------------------------- 1.5/7.5 MB 5.0 MB/s eta 0:00:02\n",
      "   ----------- ---------------------------- 2.1/7.5 MB 6.1 MB/s eta 0:00:01\n",
      "   ------------ --------------------------- 2.4/7.5 MB 6.3 MB/s eta 0:00:01\n",
      "   ------------ --------------------------- 2.4/7.5 MB 6.3 MB/s eta 0:00:01\n",
      "   ------------- -------------------------- 2.6/7.5 MB 5.4 MB/s eta 0:00:01\n",
      "   ------------------ --------------------- 3.4/7.5 MB 6.3 MB/s eta 0:00:01\n",
      "   ------------------------ --------------- 4.5/7.5 MB 7.4 MB/s eta 0:00:01\n",
      "   ------------------------- -------------- 4.8/7.5 MB 7.6 MB/s eta 0:00:01\n",
      "   ------------------------- -------------- 4.8/7.5 MB 7.6 MB/s eta 0:00:01\n",
      "   --------------------------- ------------ 5.1/7.5 MB 6.8 MB/s eta 0:00:01\n",
      "   -------------------------------- ------- 6.0/7.5 MB 7.7 MB/s eta 0:00:01\n",
      "   --------------------------------- ------ 6.3/7.5 MB 7.5 MB/s eta 0:00:01\n",
      "   ----------------------------------- ---- 6.6/7.5 MB 7.4 MB/s eta 0:00:01\n",
      "   ------------------------------------- -- 7.1/7.5 MB 7.4 MB/s eta 0:00:01\n",
      "   ---------------------------------------  7.4/7.5 MB 7.5 MB/s eta 0:00:01\n",
      "   ---------------------------------------  7.5/7.5 MB 7.4 MB/s eta 0:00:01\n",
      "   ---------------------------------------- 7.5/7.5 MB 7.1 MB/s eta 0:00:00\n",
      "Downloading contourpy-1.1.0-cp310-cp310-win_amd64.whl (470 kB)\n",
      "   ---------------------------------------- 0.0/470.4 kB ? eta -:--:--\n",
      "   --------------------------------------  460.8/470.4 kB 14.5 MB/s eta 0:00:01\n",
      "   ---------------------------------------- 470.4/470.4 kB 9.8 MB/s eta 0:00:00\n",
      "Downloading fonttools-4.41.0-cp310-cp310-win_amd64.whl (2.0 MB)\n",
      "   ---------------------------------------- 0.0/2.0 MB ? eta -:--:--\n",
      "   ---------- ----------------------------- 0.5/2.0 MB 16.3 MB/s eta 0:00:01\n",
      "   ------------------- -------------------- 0.9/2.0 MB 14.6 MB/s eta 0:00:01\n",
      "   ------------------------- -------------- 1.2/2.0 MB 13.1 MB/s eta 0:00:01\n",
      "   -------------------------------- ------- 1.6/2.0 MB 10.1 MB/s eta 0:00:01\n",
      "   ---------------------------------------  2.0/2.0 MB 9.6 MB/s eta 0:00:01\n",
      "   ---------------------------------------- 2.0/2.0 MB 8.9 MB/s eta 0:00:00\n",
      "Downloading Pillow-10.0.0-cp310-cp310-win_amd64.whl (2.5 MB)\n",
      "   ---------------------------------------- 0.0/2.5 MB ? eta -:--:--\n",
      "   ------ --------------------------------- 0.4/2.5 MB 13.5 MB/s eta 0:00:01\n",
      "   ------ --------------------------------- 0.4/2.5 MB 13.5 MB/s eta 0:00:01\n",
      "   -------- ------------------------------- 0.5/2.5 MB 3.7 MB/s eta 0:00:01\n",
      "   ------------ --------------------------- 0.8/2.5 MB 4.2 MB/s eta 0:00:01\n",
      "   --------------------------- ------------ 1.7/2.5 MB 7.4 MB/s eta 0:00:01\n",
      "   ---------------------------------- ----- 2.2/2.5 MB 7.7 MB/s eta 0:00:01\n",
      "   ---------------------------------------  2.5/2.5 MB 7.3 MB/s eta 0:00:01\n",
      "   ---------------------------------------- 2.5/2.5 MB 7.0 MB/s eta 0:00:00\n",
      "Installing collected packages: pyparsing, pillow, kiwisolver, fonttools, cycler, contourpy, matplotlib\n",
      "Successfully installed contourpy-1.1.0 cycler-0.11.0 fonttools-4.41.0 kiwisolver-1.4.4 matplotlib-3.7.2 pillow-10.0.0 pyparsing-3.0.9\n",
      "Note: you may need to restart the kernel to use updated packages.\n"
     ]
    }
   ],
   "source": [
    "pip install matplotlib"
   ]
  },
  {
   "cell_type": "code",
   "execution_count": 56,
   "id": "4654de91",
   "metadata": {
    "scrolled": true
   },
   "outputs": [
    {
     "data": {
      "text/plain": [
       "Text(0.5, 0, 'Стоимость')"
      ]
     },
     "execution_count": 56,
     "metadata": {},
     "output_type": "execute_result"
    },
    {
     "data": {
      "image/png": "[encoded data removed]",
      "text/plain": [
       "<Figure size 1500x500 with 1 Axes>"
      ]
     },
     "metadata": {},
     "output_type": "display_data"
    }
   ],
   "source": [
    "import matplotlib.pyplot as plt\n",
    "three_data_frame[\"Price\"].value_counts().nlargest(40).plot(kind='bar', figsize=(15,5)) \n",
    "plt.title(\"Распределение приложений по стоимости\")\n",
    "plt.ylabel('Количество приложений')\n",
    "plt.xlabel('Стоимость')"
   ]
  },
  {
   "cell_type": "markdown",
   "id": "e3ae3cfd",
   "metadata": {},
   "source": [
    "Действительно средняя стоимость приложения с учетом бесплатных приложений находится в районе нуля."
   ]
  },
  {
   "cell_type": "markdown",
   "id": "087d8d19",
   "metadata": {},
   "source": [
    "Вычислю среднюю стоимость приложения без учета бесплатных приложений."
   ]
  },
  {
   "cell_type": "markdown",
   "id": "922cf081",
   "metadata": {},
   "source": [
    "**1 способ:** исключу нулевые значения"
   ]
  },
  {
   "cell_type": "code",
   "execution_count": 59,
   "id": "2aa20507",
   "metadata": {},
   "outputs": [
    {
     "data": {
      "text/plain": [
       "5.327660233525472"
      ]
     },
     "execution_count": 59,
     "metadata": {},
     "output_type": "execute_result"
    }
   ],
   "source": [
    "data_frame[\"Price\"][data_frame[\"Price\"] != 0].mean()"
   ]
  },
  {
   "cell_type": "markdown",
   "id": "c6dc4a38",
   "metadata": {},
   "source": [
    "**2 способ:** выберу только те ячейки, где значения поля Free равно False"
   ]
  },
  {
   "cell_type": "code",
   "execution_count": 60,
   "id": "cf9a4404",
   "metadata": {},
   "outputs": [
    {
     "data": {
      "text/plain": [
       "5.311701368443241"
      ]
     },
     "execution_count": 60,
     "metadata": {},
     "output_type": "execute_result"
    }
   ],
   "source": [
    "data_frame.loc[~data_frame[\"Free\"], \"Price\"].mean()"
   ]
  },
  {
   "cell_type": "markdown",
   "id": "5863eccf",
   "metadata": {},
   "source": [
    "Значения немного разнятся, я думаю это связано с округлениями и не идеальным dataset'ом."
   ]
  },
  {
   "cell_type": "code",
   "execution_count": 61,
   "id": "860fba41",
   "metadata": {},
   "outputs": [
    {
     "data": {
      "text/plain": [
       "5.32"
      ]
     },
     "execution_count": 61,
     "metadata": {},
     "output_type": "execute_result"
    }
   ],
   "source": [
    "round(((data_frame[\"Price\"][data_frame[\"Price\"] != 0].mean() + data_frame.loc[~data_frame[\"Free\"], \"Price\"].mean())/2),2)"
   ]
  },
  {
   "cell_type": "markdown",
   "id": "4ea4c758",
   "metadata": {},
   "source": [
    "**Ответ:** Приложение в выборке в среднем стоит 5.32 усл.ед."
   ]
  },
  {
   "cell_type": "markdown",
   "id": "c9da0b90",
   "metadata": {},
   "source": [
    "# 4.\tКак распределены данные по скачиваниям?"
   ]
  },
  {
   "cell_type": "markdown",
   "id": "27b2de86",
   "metadata": {},
   "source": [
    "Вычислю стандартное отклонение, которое означает насколько данные в выборке в целом разбросаны от центрального значения."
   ]
  },
  {
   "cell_type": "code",
   "execution_count": 20,
   "id": "564d7a09",
   "metadata": {},
   "outputs": [
    {
     "data": {
      "text/plain": [
       "15131105.458904834"
      ]
     },
     "execution_count": 20,
     "metadata": {},
     "output_type": "execute_result"
    }
   ],
   "source": [
    "clean_data_frame.std(numeric_only=True)[\"Minimum Installs\"]"
   ]
  },
  {
   "cell_type": "markdown",
   "id": "3c0d3e4f",
   "metadata": {},
   "source": [
    "Исходя из численного ответа, могу предположить, что данные распределены неравномерно."
   ]
  },
  {
   "cell_type": "markdown",
   "id": "4bdf2c09",
   "metadata": {},
   "source": [
    "Вычислю среднее абсолютное значение"
   ]
  },
  {
   "cell_type": "code",
   "execution_count": 24,
   "id": "d67d6f8b",
   "metadata": {
    "collapsed": true
   },
   "outputs": [
    {
     "name": "stdout",
     "output_type": "stream",
     "text": [
      "Collecting statsmodels\n",
      "  Downloading statsmodels-0.14.0-cp310-cp310-win_amd64.whl (9.2 MB)\n",
      "     ---------------------------------------- 0.0/9.2 MB ? eta -:--:--\n",
      "     ---------------------------------------- 0.0/9.2 MB 1.3 MB/s eta 0:00:08\n",
      "     ---------------------------------------- 0.1/9.2 MB 812.7 kB/s eta 0:00:12\n",
      "      --------------------------------------- 0.1/9.2 MB 901.1 kB/s eta 0:00:11\n",
      "     - -------------------------------------- 0.2/9.2 MB 1.4 MB/s eta 0:00:07\n",
      "     - -------------------------------------- 0.4/9.2 MB 1.6 MB/s eta 0:00:06\n",
      "     - -------------------------------------- 0.4/9.2 MB 1.5 MB/s eta 0:00:06\n",
      "     -- ------------------------------------- 0.6/9.2 MB 1.9 MB/s eta 0:00:05\n",
      "     ---- ----------------------------------- 1.0/9.2 MB 2.5 MB/s eta 0:00:04\n",
      "     ------ --------------------------------- 1.4/9.2 MB 3.4 MB/s eta 0:00:03\n",
      "     -------- ------------------------------- 2.0/9.2 MB 4.1 MB/s eta 0:00:02\n",
      "     --------- ------------------------------ 2.1/9.2 MB 4.4 MB/s eta 0:00:02\n",
      "     --------- ------------------------------ 2.1/9.2 MB 4.4 MB/s eta 0:00:02\n",
      "     --------------- ------------------------ 3.5/9.2 MB 5.6 MB/s eta 0:00:02\n",
      "     ---------------- ----------------------- 3.7/9.2 MB 5.5 MB/s eta 0:00:01\n",
      "     ------------------ --------------------- 4.3/9.2 MB 5.9 MB/s eta 0:00:01\n",
      "     -------------------- ------------------- 4.8/9.2 MB 6.1 MB/s eta 0:00:01\n",
      "     ----------------------- ---------------- 5.3/9.2 MB 6.4 MB/s eta 0:00:01\n",
      "     ------------------------- -------------- 5.8/9.2 MB 6.6 MB/s eta 0:00:01\n",
      "     --------------------------- ------------ 6.3/9.2 MB 6.8 MB/s eta 0:00:01\n",
      "     ---------------------------- ----------- 6.6/9.2 MB 6.9 MB/s eta 0:00:01\n",
      "     ------------------------------- -------- 7.1/9.2 MB 7.1 MB/s eta 0:00:01\n",
      "     --------------------------------- ------ 7.6/9.2 MB 7.4 MB/s eta 0:00:01\n",
      "     ----------------------------------- ---- 8.2/9.2 MB 7.4 MB/s eta 0:00:01\n",
      "     ------------------------------------ --- 8.5/9.2 MB 7.4 MB/s eta 0:00:01\n",
      "     ---------------------------------------  9.0/9.2 MB 7.7 MB/s eta 0:00:01\n",
      "     ---------------------------------------  9.2/9.2 MB 7.5 MB/s eta 0:00:01\n",
      "     ---------------------------------------- 9.2/9.2 MB 7.4 MB/s eta 0:00:00\n",
      "Requirement already satisfied: numpy>=1.18 in d:\\programms\\python 3\\lib\\site-packages (from statsmodels) (1.25.1)\n",
      "Collecting scipy!=1.9.2,>=1.4 (from statsmodels)\n",
      "  Obtaining dependency information for scipy!=1.9.2,>=1.4 from https://files.pythonhosted.org/packages/ce/e4/50b6fd4a2b65222424646abf17830904c9190bdd2c8daa7aeec083273903/scipy-1.11.1-cp310-cp310-win_amd64.whl.metadata\n",
      "  Downloading scipy-1.11.1-cp310-cp310-win_amd64.whl.metadata (59 kB)\n",
      "     ---------------------------------------- 0.0/59.1 kB ? eta -:--:--\n",
      "     ---------------------------------------- 59.1/59.1 kB 3.1 MB/s eta 0:00:00\n",
      "Requirement already satisfied: pandas>=1.0 in d:\\programms\\python 3\\lib\\site-packages (from statsmodels) (2.0.3)\n",
      "Collecting patsy>=0.5.2 (from statsmodels)\n",
      "  Downloading patsy-0.5.3-py2.py3-none-any.whl (233 kB)\n",
      "     ---------------------------------------- 0.0/233.8 kB ? eta -:--:--\n",
      "     ------------------------------------- 233.8/233.8 kB 14.9 MB/s eta 0:00:00\n",
      "Requirement already satisfied: packaging>=21.3 in d:\\programms\\python 3\\lib\\site-packages (from statsmodels) (23.0)\n",
      "Requirement already satisfied: python-dateutil>=2.8.2 in d:\\programms\\python 3\\lib\\site-packages (from pandas>=1.0->statsmodels) (2.8.2)\n",
      "Requirement already satisfied: pytz>=2020.1 in d:\\programms\\python 3\\lib\\site-packages (from pandas>=1.0->statsmodels) (2023.3)\n",
      "Requirement already satisfied: tzdata>=2022.1 in d:\\programms\\python 3\\lib\\site-packages (from pandas>=1.0->statsmodels) (2023.3)\n",
      "Requirement already satisfied: six in d:\\programms\\python 3\\lib\\site-packages (from patsy>=0.5.2->statsmodels) (1.16.0)\n",
      "Downloading scipy-1.11.1-cp310-cp310-win_amd64.whl (44.0 MB)\n",
      "   ---------------------------------------- 0.0/44.0 MB ? eta -:--:--\n",
      "   ---------------------------------------- 0.4/44.0 MB 26.2 MB/s eta 0:00:02\n",
      "    --------------------------------------- 1.0/44.0 MB 15.1 MB/s eta 0:00:03\n",
      "   - -------------------------------------- 1.3/44.0 MB 11.5 MB/s eta 0:00:04\n",
      "   - -------------------------------------- 1.7/44.0 MB 10.7 MB/s eta 0:00:04\n",
      "   -- ------------------------------------- 2.2/44.0 MB 11.0 MB/s eta 0:00:04\n",
      "   -- ------------------------------------- 2.8/44.0 MB 10.4 MB/s eta 0:00:04\n",
      "   -- ------------------------------------- 3.1/44.0 MB 11.0 MB/s eta 0:00:04\n",
      "   --- ------------------------------------ 3.6/44.0 MB 10.9 MB/s eta 0:00:04\n",
      "   --- ------------------------------------ 4.0/44.0 MB 10.3 MB/s eta 0:00:04\n",
      "   ---- ----------------------------------- 4.5/44.0 MB 10.6 MB/s eta 0:00:04\n",
      "   ---- ----------------------------------- 4.8/44.0 MB 10.3 MB/s eta 0:00:04\n",
      "   ---- ----------------------------------- 5.4/44.0 MB 10.5 MB/s eta 0:00:04\n",
      "   ----- ---------------------------------- 5.9/44.0 MB 10.2 MB/s eta 0:00:04\n",
      "   ----- ---------------------------------- 6.5/44.0 MB 10.1 MB/s eta 0:00:04\n",
      "   ------ --------------------------------- 7.0/44.0 MB 10.3 MB/s eta 0:00:04\n",
      "   ------ --------------------------------- 7.4/44.0 MB 10.3 MB/s eta 0:00:04\n",
      "   ------- -------------------------------- 7.9/44.0 MB 10.3 MB/s eta 0:00:04\n",
      "   ------- -------------------------------- 8.3/44.0 MB 10.4 MB/s eta 0:00:04\n",
      "   -------- ------------------------------- 8.8/44.0 MB 10.4 MB/s eta 0:00:04\n",
      "   -------- ------------------------------- 9.3/44.0 MB 10.2 MB/s eta 0:00:04\n",
      "   -------- ------------------------------- 9.8/44.0 MB 10.1 MB/s eta 0:00:04\n",
      "   --------- ------------------------------ 10.1/44.0 MB 10.2 MB/s eta 0:00:04\n",
      "   --------- ------------------------------ 10.5/44.0 MB 9.9 MB/s eta 0:00:04\n",
      "   ---------- ----------------------------- 11.2/44.0 MB 9.8 MB/s eta 0:00:04\n",
      "   ---------- ----------------------------- 11.6/44.0 MB 9.9 MB/s eta 0:00:04\n",
      "   ---------- ----------------------------- 12.0/44.0 MB 9.9 MB/s eta 0:00:04\n",
      "   ----------- ---------------------------- 12.6/44.0 MB 9.9 MB/s eta 0:00:04\n",
      "   ----------- ---------------------------- 13.1/44.0 MB 9.9 MB/s eta 0:00:04\n",
      "   ------------ --------------------------- 13.5/44.0 MB 9.6 MB/s eta 0:00:04\n",
      "   ------------ --------------------------- 14.1/44.0 MB 9.9 MB/s eta 0:00:04\n",
      "   ------------- -------------------------- 14.6/44.0 MB 9.9 MB/s eta 0:00:03\n",
      "   ------------- -------------------------- 15.3/44.0 MB 10.1 MB/s eta 0:00:03\n",
      "   -------------- ------------------------- 15.8/44.0 MB 10.1 MB/s eta 0:00:03\n",
      "   -------------- ------------------------- 16.4/44.0 MB 10.2 MB/s eta 0:00:03\n",
      "   --------------- ------------------------ 17.0/44.0 MB 10.4 MB/s eta 0:00:03\n",
      "   ---------------- ----------------------- 17.6/44.0 MB 10.4 MB/s eta 0:00:03\n",
      "   ---------------- ----------------------- 17.9/44.0 MB 10.4 MB/s eta 0:00:03\n",
      "   ---------------- ----------------------- 17.9/44.0 MB 10.4 MB/s eta 0:00:03\n",
      "   ---------------- ----------------------- 17.9/44.0 MB 10.4 MB/s eta 0:00:03\n",
      "   ------------------ --------------------- 19.9/44.0 MB 10.7 MB/s eta 0:00:03\n",
      "   ------------------ --------------------- 20.4/44.0 MB 10.9 MB/s eta 0:00:03\n",
      "   ------------------ --------------------- 20.9/44.0 MB 10.9 MB/s eta 0:00:03\n",
      "   ------------------- -------------------- 21.4/44.0 MB 11.1 MB/s eta 0:00:03\n",
      "   ------------------- -------------------- 22.0/44.0 MB 10.9 MB/s eta 0:00:03\n",
      "   -------------------- ------------------- 22.4/44.0 MB 10.9 MB/s eta 0:00:02\n",
      "   -------------------- ------------------- 23.0/44.0 MB 11.1 MB/s eta 0:00:02\n",
      "   --------------------- ------------------ 23.6/44.0 MB 11.5 MB/s eta 0:00:02\n",
      "   --------------------- ------------------ 24.1/44.0 MB 11.3 MB/s eta 0:00:02\n",
      "   ---------------------- ----------------- 24.6/44.0 MB 11.1 MB/s eta 0:00:02\n",
      "   ---------------------- ----------------- 25.2/44.0 MB 11.1 MB/s eta 0:00:02\n",
      "   ----------------------- ---------------- 25.7/44.0 MB 11.1 MB/s eta 0:00:02\n",
      "   ----------------------- ---------------- 26.3/44.0 MB 10.9 MB/s eta 0:00:02\n",
      "   ------------------------ --------------- 26.8/44.0 MB 10.9 MB/s eta 0:00:02\n",
      "   ------------------------ --------------- 27.4/44.0 MB 11.1 MB/s eta 0:00:02\n",
      "   ------------------------- -------------- 27.9/44.0 MB 10.9 MB/s eta 0:00:02\n",
      "   ------------------------- -------------- 28.6/44.0 MB 12.9 MB/s eta 0:00:02\n",
      "   -------------------------- ------------- 29.1/44.0 MB 12.1 MB/s eta 0:00:02\n",
      "   -------------------------- ------------- 29.7/44.0 MB 11.3 MB/s eta 0:00:02\n",
      "   --------------------------- ------------ 30.2/44.0 MB 10.9 MB/s eta 0:00:02\n",
      "   ---------------------------- ----------- 30.8/44.0 MB 11.1 MB/s eta 0:00:02\n",
      "   ---------------------------- ----------- 31.3/44.0 MB 11.1 MB/s eta 0:00:02\n",
      "   ----------------------------- ---------- 31.9/44.0 MB 11.1 MB/s eta 0:00:02\n",
      "   ----------------------------- ---------- 32.5/44.0 MB 11.1 MB/s eta 0:00:02\n",
      "   ------------------------------ --------- 33.1/44.0 MB 11.3 MB/s eta 0:00:01\n",
      "   ------------------------------ --------- 33.6/44.0 MB 11.3 MB/s eta 0:00:01\n",
      "   ------------------------------- -------- 34.2/44.0 MB 11.3 MB/s eta 0:00:01\n",
      "   ------------------------------- -------- 34.8/44.0 MB 11.5 MB/s eta 0:00:01\n",
      "   -------------------------------- ------- 35.4/44.0 MB 11.3 MB/s eta 0:00:01\n",
      "   -------------------------------- ------- 35.9/44.0 MB 11.3 MB/s eta 0:00:01\n",
      "   --------------------------------- ------ 36.5/44.0 MB 11.5 MB/s eta 0:00:01\n",
      "   --------------------------------- ------ 37.1/44.0 MB 11.5 MB/s eta 0:00:01\n",
      "   ---------------------------------- ----- 37.7/44.0 MB 11.5 MB/s eta 0:00:01\n",
      "   ---------------------------------- ----- 38.2/44.0 MB 11.5 MB/s eta 0:00:01\n",
      "   ----------------------------------- ---- 38.9/44.0 MB 11.5 MB/s eta 0:00:01\n",
      "   ----------------------------------- ---- 39.4/44.0 MB 11.5 MB/s eta 0:00:01\n",
      "   ------------------------------------ --- 40.0/44.0 MB 11.5 MB/s eta 0:00:01\n",
      "   ------------------------------------ --- 40.5/44.0 MB 11.5 MB/s eta 0:00:01\n",
      "   ------------------------------------- -- 41.2/44.0 MB 11.5 MB/s eta 0:00:01\n",
      "   ------------------------------------- -- 41.7/44.0 MB 11.5 MB/s eta 0:00:01\n",
      "   -------------------------------------- - 42.1/44.0 MB 11.5 MB/s eta 0:00:01\n",
      "   -------------------------------------- - 42.6/44.0 MB 11.5 MB/s eta 0:00:01\n",
      "   ---------------------------------------  43.3/44.0 MB 11.3 MB/s eta 0:00:01\n",
      "   ---------------------------------------  43.8/44.0 MB 11.5 MB/s eta 0:00:01\n",
      "   ---------------------------------------  44.0/44.0 MB 11.3 MB/s eta 0:00:01\n",
      "   ---------------------------------------  44.0/44.0 MB 11.3 MB/s eta 0:00:01\n",
      "   ---------------------------------------- 44.0/44.0 MB 9.8 MB/s eta 0:00:00\n",
      "Installing collected packages: scipy, patsy, statsmodels\n",
      "Successfully installed patsy-0.5.3 scipy-1.11.1 statsmodels-0.14.0\n",
      "Note: you may need to restart the kernel to use updated packages.\n"
     ]
    }
   ],
   "source": [
    "pip install statsmodels"
   ]
  },
  {
   "cell_type": "code",
   "execution_count": 27,
   "id": "ddfaccce",
   "metadata": {},
   "outputs": [
    {
     "data": {
      "text/plain": [
       "733.888098160273"
      ]
     },
     "execution_count": 27,
     "metadata": {},
     "output_type": "execute_result"
    }
   ],
   "source": [
    "import numpy as np\n",
    "from statsmodels import robust\n",
    "robust.scale.mad(clean_data_frame[\"Minimum Installs\"])"
   ]
  },
  {
   "cell_type": "code",
   "execution_count": 85,
   "id": "b3f343a2",
   "metadata": {
    "scrolled": true
   },
   "outputs": [
    {
     "data": {
      "image/png": "[encoded data removed]",
      "text/plain": [
       "<Figure size 1500x500 with 1 Axes>"
      ]
     },
     "metadata": {},
     "output_type": "display_data"
    }
   ],
   "source": [
    "sorted_counts = clean_data_frame['Minimum Installs'].value_counts().nlargest(40).sort_index()\n",
    "sorted_counts.plot(kind='bar', figsize=(15, 5))\n",
    "\n",
    "plt.title(\"Распределение данных по скачиваниям\")\n",
    "plt.ylabel('Количество приложений')\n",
    "plt.xlabel('Минимум Скачиваний')\n",
    "\n",
    "plt.show()\n"
   ]
  },
  {
   "cell_type": "markdown",
   "id": "e1d00051",
   "metadata": {},
   "source": [
    "**Ответ:** Проанализировав гистограмму, могу утверждать, что данные по скачиваниям распределены неравномерно."
   ]
  },
  {
   "cell_type": "markdown",
   "id": "2b317091",
   "metadata": {},
   "source": [
    "# 5.\tПриложения каких категорий скачивают чаще всего?"
   ]
  },
  {
   "cell_type": "markdown",
   "id": "1deb0d89",
   "metadata": {},
   "source": [
    "Выполню группировку данных по столбцу \"Category\" и вычислю сумму скачиваний для каждой категории."
   ]
  },
  {
   "cell_type": "code",
   "execution_count": 97,
   "id": "5645f925",
   "metadata": {},
   "outputs": [],
   "source": [
    "most_installs = clean_data_frame.groupby('Category')['Maximum Installs'].sum()"
   ]
  },
  {
   "cell_type": "markdown",
   "id": "b0a5681b",
   "metadata": {},
   "source": [
    "Теперь отсортирую данные по убыванию."
   ]
  },
  {
   "cell_type": "code",
   "execution_count": 107,
   "id": "bd5777b1",
   "metadata": {
    "scrolled": true
   },
   "outputs": [
    {
     "name": "stdout",
     "output_type": "stream",
     "text": [
      "Category\n",
      "Tools                      119849500546\n",
      "Communication               72306404399\n",
      "Productivity                45368330480\n",
      "Entertainment               32544899492\n",
      "Social                      32216881194\n",
      "Photography                 31590959146\n",
      "Video Players & Editors     31439400808\n",
      "Action                      30742136749\n",
      "Casual                      30525269577\n",
      "Arcade                      25681896192\n",
      "Music & Audio               23021925877\n",
      "Simulation                  19957063168\n",
      "Puzzle                      19163779524\n",
      "Travel & Local              18541978772\n",
      "Personalization             17477377333\n",
      "Racing                      17093737289\n",
      "Sports                      14177721735\n",
      "Shopping                    13288289453\n",
      "Finance                     11385454261\n",
      "Education                   10814228456\n",
      "Books & Reference           10309375263\n",
      "Lifestyle                   10293399960\n",
      "Adventure                    9818710287\n",
      "News & Magazines             8824547668\n",
      "Role Playing                 8646146865\n",
      "Business                     8577785396\n",
      "Educational                  8276809814\n",
      "Health & Fitness             8068396573\n",
      "Strategy                     7691357340\n",
      "Board                        5281549210\n",
      "Maps & Navigation            4792013615\n",
      "Weather                      4625273209\n",
      "Word                         3463961703\n",
      "Card                         3340899991\n",
      "Music                        3261642266\n",
      "Auto & Vehicles              3056222948\n",
      "Food & Drink                 2920080309\n",
      "Casino                       2222890889\n",
      "Trivia                       2207718907\n",
      "Art & Design                 1816298544\n",
      "Dating                       1298958503\n",
      "Medical                      1097279936\n",
      "House & Home                  888165701\n",
      "Beauty                        711807155\n",
      "Comics                        708237879\n",
      "Libraries & Demo              595274491\n",
      "Parenting                     486012874\n",
      "Events                        140492465\n",
      "Name: Maximum Installs, dtype: int64\n"
     ]
    }
   ],
   "source": [
    "most_installs_sorted = most_installs.sort_values(ascending=False)\n",
    "print(most_installs_sorted)"
   ]
  },
  {
   "cell_type": "markdown",
   "id": "71e7e057",
   "metadata": {},
   "source": [
    "Построю гистограмму зависимости количества скачиваний от категории."
   ]
  },
  {
   "cell_type": "code",
   "execution_count": 104,
   "id": "0dd6719f",
   "metadata": {
    "scrolled": true
   },
   "outputs": [
    {
     "data": {
      "image/png": "[encoded data removed]",
      "text/plain": [
       "<Figure size 1500x500 with 1 Axes>"
      ]
     },
     "metadata": {},
     "output_type": "display_data"
    }
   ],
   "source": [
    "plt.figure(figsize=(15, 5))\n",
    "\n",
    "top_20_categories = most_installs_sorted.iloc[:20]\n",
    "\n",
    "plt.bar(top_20_categories.index, top_20_categories.values)\n",
    "plt.xlabel('Категория приложения')\n",
    "plt.ylabel('Количество скачиваний')\n",
    "plt.title('Зависимость количества скачиваний от категории (Топ 20)')\n",
    "plt.xticks(rotation=90)\n",
    "plt.show()\n"
   ]
  },
  {
   "cell_type": "markdown",
   "id": "0256a025",
   "metadata": {},
   "source": [
    "**Ответ:** Чаще всего скачивают приложения из таких категорий, как Tools, Communnication, Productivity, Entertainment, Social.(топ 20 приведен на гистограмме)."
   ]
  },
  {
   "cell_type": "markdown",
   "id": "41b48340",
   "metadata": {},
   "source": [
    "# 6.\tКак распределены данные по рейтингу приложений?"
   ]
  },
  {
   "cell_type": "markdown",
   "id": "9b19351f",
   "metadata": {},
   "source": [
    "Удалю пропущенные значения в столбце \"Rating\"."
   ]
  },
  {
   "cell_type": "code",
   "execution_count": 114,
   "id": "7acb0099",
   "metadata": {},
   "outputs": [],
   "source": [
    "#mask = clean_data_frame.notnull()\n",
    "#rating_data_frame = clean_data_frame.where(mask).dropna()\n",
    "rating_data_frame = clean_data_frame.dropna(subset=['Rating'])"
   ]
  },
  {
   "cell_type": "code",
   "execution_count": 116,
   "id": "703df7b5",
   "metadata": {
    "scrolled": true
   },
   "outputs": [
    {
     "data": {
      "image/png": "[encoded data removed]",
      "text/plain": [
       "<Figure size 1000x600 with 1 Axes>"
      ]
     },
     "metadata": {},
     "output_type": "display_data"
    }
   ],
   "source": [
    "plt.figure(figsize=(10, 6))\n",
    "plt.hist(rating_data_frame['Rating'], bins=10, edgecolor='black')\n",
    "plt.xlabel('Рейтинг')\n",
    "plt.ylabel('Количество приложений')\n",
    "plt.title('Распределение оценок приложений')\n",
    "plt.show()"
   ]
  },
  {
   "cell_type": "markdown",
   "id": "a314153f",
   "metadata": {},
   "source": [
    "**Ответ:** Данные по рейтингу приложений распределены неравномерно."
   ]
  },
  {
   "cell_type": "markdown",
   "id": "f73e270e",
   "metadata": {},
   "source": [
    "# 7.\tКак бы вы охарактеризовали самое часто встречающееся значение в наборе данных, какое это приложение?"
   ]
  },
  {
   "cell_type": "markdown",
   "id": "b3710c3f",
   "metadata": {},
   "source": [
    "Для поиска самого часто встречающегося приложения вычислю моду."
   ]
  },
  {
   "cell_type": "code",
   "execution_count": 142,
   "id": "7f3bb2fc",
   "metadata": {},
   "outputs": [
    {
     "name": "stdout",
     "output_type": "stream",
     "text": [
      "Самое часто встречающееся значение в наборе данных: Tic Tac Toe\n"
     ]
    }
   ],
   "source": [
    "import statistics\n",
    "common_app = statistics.mode(data_frame[\"App Name\"])\n",
    "print(\"Самое часто встречающееся значение в наборе данных:\", common_app)"
   ]
  },
  {
   "cell_type": "markdown",
   "id": "c8c03b4f",
   "metadata": {},
   "source": [
    "Найду топ-10 самых часто встречающихся приложений."
   ]
  },
  {
   "cell_type": "code",
   "execution_count": 143,
   "id": "87b3c1b4",
   "metadata": {
    "scrolled": true
   },
   "outputs": [
    {
     "data": {
      "image/png": "[encoded data removed]",
      "text/plain": [
       "<Figure size 1000x600 with 1 Axes>"
      ]
     },
     "metadata": {},
     "output_type": "display_data"
    }
   ],
   "source": [
    "apps = data_frame['App Name'].value_counts()\n",
    "\n",
    "top_apps = apps[:10]\n",
    "plt.figure(figsize=(10, 6))\n",
    "plt.bar(top_apps.index, top_apps.values)\n",
    "plt.xlabel('Приложение')\n",
    "plt.ylabel('Количество появлений')\n",
    "plt.title('Наиболее часто встречающиеся приложения')\n",
    "plt.xticks(rotation=45)\n",
    "plt.show()"
   ]
  },
  {
   "cell_type": "markdown",
   "id": "3c6296d1",
   "metadata": {},
   "source": [
    "**Ответ:** Самым часто встречающимся приложением в наборе данных является Tic Tac Toe."
   ]
  },
  {
   "cell_type": "markdown",
   "id": "e9e0d198",
   "metadata": {},
   "source": [
    "# 8.\tЕсть ли зависимость категории приложения от рейтинга приложения?"
   ]
  },
  {
   "cell_type": "markdown",
   "id": "8dde4795",
   "metadata": {},
   "source": [
    "Сгруппирую данные по категории и среднему рейтингу и отсортирую в порядке убывания."
   ]
  },
  {
   "cell_type": "code",
   "execution_count": 146,
   "id": "66d218c9",
   "metadata": {},
   "outputs": [],
   "source": [
    "category_rating_group = data_frame.groupby('Category')['Rating'].mean()\n",
    "category_rating_group_sorted = category_rating_group.sort_values(ascending=False)"
   ]
  },
  {
   "cell_type": "code",
   "execution_count": 148,
   "id": "9faaf1d4",
   "metadata": {
    "scrolled": true
   },
   "outputs": [
    {
     "name": "stdout",
     "output_type": "stream",
     "text": [
      "Category\n",
      "Role Playing               3.384498\n",
      "Casino                     3.279682\n",
      "Simulation                 3.210887\n",
      "Weather                    3.120295\n",
      "Card                       3.085160\n",
      "Racing                     2.960385\n",
      "Video Players & Editors    2.903842\n",
      "Word                       2.902076\n",
      "Strategy                   2.878900\n",
      "Comics                     2.864906\n",
      "Adventure                  2.814991\n",
      "Board                      2.782275\n",
      "Personalization            2.758754\n",
      "Action                     2.705979\n",
      "Puzzle                     2.688279\n",
      "Music                      2.662008\n",
      "Trivia                     2.526178\n",
      "Photography                2.519765\n",
      "News & Magazines           2.483766\n",
      "Books & Reference          2.467159\n",
      "Dating                     2.452001\n",
      "Arcade                     2.450481\n",
      "Educational                2.437742\n",
      "Entertainment              2.435374\n",
      "Casual                     2.425160\n",
      "Parenting                  2.423273\n",
      "Finance                    2.403102\n",
      "Social                     2.398867\n",
      "Tools                      2.346080\n",
      "Sports                     2.315545\n",
      "Education                  2.246840\n",
      "Music & Audio              2.226841\n",
      "Maps & Navigation          2.224805\n",
      "Communication              2.122591\n",
      "Libraries & Demo           2.087115\n",
      "Auto & Vehicles            2.049613\n",
      "Art & Design               1.952354\n",
      "Productivity               1.937928\n",
      "Lifestyle                  1.930376\n",
      "Travel & Local             1.921196\n",
      "Medical                    1.848003\n",
      "Shopping                   1.837001\n",
      "Health & Fitness           1.623777\n",
      "House & Home               1.485381\n",
      "Business                   1.439082\n",
      "Beauty                     1.434105\n",
      "Food & Drink               1.294563\n",
      "Events                     1.270809\n",
      "Name: Rating, dtype: float64\n"
     ]
    }
   ],
   "source": [
    "print(category_rating_group_sorted)"
   ]
  },
  {
   "cell_type": "markdown",
   "id": "44e4fd9e",
   "metadata": {},
   "source": [
    "Построю гистограмму зависимости категории приложения от среднего рейтинга."
   ]
  },
  {
   "cell_type": "code",
   "execution_count": 149,
   "id": "a590c0e6",
   "metadata": {
    "scrolled": true
   },
   "outputs": [
    {
     "data": {
      "image/png": "[encoded data removed]",
      "text/plain": [
       "<Figure size 1400x800 with 1 Axes>"
      ]
     },
     "metadata": {},
     "output_type": "display_data"
    }
   ],
   "source": [
    "plt.figure(figsize=(14, 8))\n",
    "plt.bar(category_rating_group_sorted.index, category_rating_group_sorted.values)\n",
    "plt.xlabel('Категория приложения')\n",
    "plt.ylabel('Средний рейтинг')\n",
    "plt.title('Зависимость категории приложения от среднего рейтинга (упорядочено)')\n",
    "plt.xticks(rotation=90)\n",
    "plt.show()"
   ]
  },
  {
   "cell_type": "markdown",
   "id": "8ad11584",
   "metadata": {},
   "source": [
    "Теперь выясню зависимость между исследуемыми переменными. Найду корелляцию."
   ]
  },
  {
   "cell_type": "markdown",
   "id": "bbb6dcbe",
   "metadata": {},
   "source": [
    "Сперва нужно преобразовать столбец Category."
   ]
  },
  {
   "cell_type": "code",
   "execution_count": 152,
   "id": "3e4bfa12",
   "metadata": {},
   "outputs": [],
   "source": [
    "data_frame['Category ID'] = pd.factorize(data_frame['Category'])[0]"
   ]
  },
  {
   "cell_type": "code",
   "execution_count": 154,
   "id": "d906729c",
   "metadata": {},
   "outputs": [
    {
     "name": "stdout",
     "output_type": "stream",
     "text": [
      "Корреляция между категорией приложения и рейтингом равна: 0.018742180828797497\n"
     ]
    }
   ],
   "source": [
    "correlation = data_frame['Category ID'].corr(data_frame['Rating'])\n",
    "print(\"Корреляция между категорией приложения и рейтингом равна:\", correlation)"
   ]
  },
  {
   "cell_type": "code",
   "execution_count": 157,
   "id": "c8831a32",
   "metadata": {
    "collapsed": true
   },
   "outputs": [
    {
     "name": "stdout",
     "output_type": "stream",
     "text": [
      "Collecting seabornNote: you may need to restart the kernel to use updated packages.\n",
      "\n",
      "  Downloading seaborn-0.12.2-py3-none-any.whl (293 kB)\n",
      "     ---------------------------------------- 0.0/293.3 kB ? eta -:--:--\n",
      "     ---- ---------------------------------- 30.7/293.3 kB 1.3 MB/s eta 0:00:01\n",
      "     --------- --------------------------- 71.7/293.3 kB 787.7 kB/s eta 0:00:01\n",
      "     --------------- -------------------- 122.9/293.3 kB 901.1 kB/s eta 0:00:01\n",
      "     ------------------------------ ------- 235.5/293.3 kB 1.3 MB/s eta 0:00:01\n",
      "     -------------------------------------- 293.3/293.3 kB 1.2 MB/s eta 0:00:00\n",
      "Requirement already satisfied: numpy!=1.24.0,>=1.17 in d:\\programms\\python 3\\lib\\site-packages (from seaborn) (1.25.1)\n",
      "Requirement already satisfied: pandas>=0.25 in d:\\programms\\python 3\\lib\\site-packages (from seaborn) (2.0.3)\n",
      "Requirement already satisfied: matplotlib!=3.6.1,>=3.1 in d:\\programms\\python 3\\lib\\site-packages (from seaborn) (3.7.2)\n",
      "Requirement already satisfied: contourpy>=1.0.1 in d:\\programms\\python 3\\lib\\site-packages (from matplotlib!=3.6.1,>=3.1->seaborn) (1.1.0)\n",
      "Requirement already satisfied: cycler>=0.10 in d:\\programms\\python 3\\lib\\site-packages (from matplotlib!=3.6.1,>=3.1->seaborn) (0.11.0)\n",
      "Requirement already satisfied: fonttools>=4.22.0 in d:\\programms\\python 3\\lib\\site-packages (from matplotlib!=3.6.1,>=3.1->seaborn) (4.41.0)\n",
      "Requirement already satisfied: kiwisolver>=1.0.1 in d:\\programms\\python 3\\lib\\site-packages (from matplotlib!=3.6.1,>=3.1->seaborn) (1.4.4)\n",
      "Requirement already satisfied: packaging>=20.0 in d:\\programms\\python 3\\lib\\site-packages (from matplotlib!=3.6.1,>=3.1->seaborn) (23.0)\n",
      "Requirement already satisfied: pillow>=6.2.0 in d:\\programms\\python 3\\lib\\site-packages (from matplotlib!=3.6.1,>=3.1->seaborn) (10.0.0)\n",
      "Requirement already satisfied: pyparsing<3.1,>=2.3.1 in d:\\programms\\python 3\\lib\\site-packages (from matplotlib!=3.6.1,>=3.1->seaborn) (3.0.9)\n",
      "Requirement already satisfied: python-dateutil>=2.7 in d:\\programms\\python 3\\lib\\site-packages (from matplotlib!=3.6.1,>=3.1->seaborn) (2.8.2)\n",
      "Requirement already satisfied: pytz>=2020.1 in d:\\programms\\python 3\\lib\\site-packages (from pandas>=0.25->seaborn) (2023.3)\n",
      "Requirement already satisfied: tzdata>=2022.1 in d:\\programms\\python 3\\lib\\site-packages (from pandas>=0.25->seaborn) (2023.3)\n",
      "Requirement already satisfied: six>=1.5 in d:\\programms\\python 3\\lib\\site-packages (from python-dateutil>=2.7->matplotlib!=3.6.1,>=3.1->seaborn) (1.16.0)\n",
      "Installing collected packages: seaborn\n",
      "Successfully installed seaborn-0.12.2\n"
     ]
    }
   ],
   "source": [
    "pip install seaborn"
   ]
  },
  {
   "cell_type": "markdown",
   "id": "2c115349",
   "metadata": {},
   "source": [
    "Для визуального восприятия и понимания построю матрицу корелляции."
   ]
  },
  {
   "cell_type": "code",
   "execution_count": 161,
   "id": "7fa6135e",
   "metadata": {
    "scrolled": true
   },
   "outputs": [
    {
     "data": {
      "text/html": [
       "<div>\n",
       "<style scoped>\n",
       "    .dataframe tbody tr th:only-of-type {\n",
       "        vertical-align: middle;\n",
       "    }\n",
       "\n",
       "    .dataframe tbody tr th {\n",
       "        vertical-align: top;\n",
       "    }\n",
       "\n",
       "    .dataframe thead th {\n",
       "        text-align: right;\n",
       "    }\n",
       "</style>\n",
       "<table border=\"1\" class=\"dataframe\">\n",
       "  <thead>\n",
       "    <tr style=\"text-align: right;\">\n",
       "      <th></th>\n",
       "      <th>Category ID</th>\n",
       "      <th>Rating</th>\n",
       "    </tr>\n",
       "  </thead>\n",
       "  <tbody>\n",
       "    <tr>\n",
       "      <th>Category ID</th>\n",
       "      <td>1.000000</td>\n",
       "      <td>0.018742</td>\n",
       "    </tr>\n",
       "    <tr>\n",
       "      <th>Rating</th>\n",
       "      <td>0.018742</td>\n",
       "      <td>1.000000</td>\n",
       "    </tr>\n",
       "  </tbody>\n",
       "</table>\n",
       "</div>"
      ],
      "text/plain": [
       "             Category ID    Rating\n",
       "Category ID     1.000000  0.018742\n",
       "Rating          0.018742  1.000000"
      ]
     },
     "execution_count": 161,
     "metadata": {},
     "output_type": "execute_result"
    },
    {
     "data": {
      "image/png": "[encoded data removed]",
      "text/plain": [
       "<Figure size 1000x500 with 2 Axes>"
      ]
     },
     "metadata": {},
     "output_type": "display_data"
    }
   ],
   "source": [
    "import seaborn as sns\n",
    "plt.figure(figsize=(10,5))\n",
    "c = data_frame[[ \"Category ID\", \"Rating\"]].corr()\n",
    "sns.heatmap(c, cmap=\"BrBG\", annot=True)\n",
    "plt.title('Матрица корреляции')\n",
    "c"
   ]
  },
  {
   "cell_type": "markdown",
   "id": "29d1aefb",
   "metadata": {},
   "source": [
    "**Ответ:** Исходя из вычисленной корелляции и ее матрицы могу утверждать, что зависимость категории приложения от рейтинга приложения достаточно мала."
   ]
  },
  {
   "cell_type": "markdown",
   "id": "acb2d0a9",
   "metadata": {},
   "source": [
    "# 9.\tКак распределены оценки (рейтинги) приложений?"
   ]
  },
  {
   "cell_type": "markdown",
   "id": "ab4a04d2",
   "metadata": {},
   "source": [
    "Данный вопрос аналогичен 6 вопросу, поэтому прошу обратиться к ответу на 6 вопрос."
   ]
  },
  {
   "cell_type": "markdown",
   "id": "ff49a333",
   "metadata": {},
   "source": [
    "# 10.\tКак кореллируют между собой рейтинг и количество скачиваний приложения?"
   ]
  },
  {
   "cell_type": "markdown",
   "id": "8bfd32a0",
   "metadata": {},
   "source": [
    "Приведу столбец Installs к рабочему виду."
   ]
  },
  {
   "cell_type": "code",
   "execution_count": 168,
   "id": "df89c0ef",
   "metadata": {},
   "outputs": [],
   "source": [
    "data_frame['Installs'] = data_frame['Installs'].str.replace(',', '').str.replace('+', '')\n",
    "data_frame['Installs'] = pd.to_numeric(data_frame['Installs'])"
   ]
  },
  {
   "cell_type": "code",
   "execution_count": 171,
   "id": "f1f6e2b4",
   "metadata": {},
   "outputs": [
    {
     "name": "stdout",
     "output_type": "stream",
     "text": [
      "Корреляция между количеством скачиваний приложения и рейтингом равна: 0.01121445514046163\n"
     ]
    }
   ],
   "source": [
    "rating_quantity = data_frame['Rating'].corr(data_frame['Installs'])\n",
    "print(\"Корреляция между количеством скачиваний приложения и рейтингом равна:\", rating_quantity)"
   ]
  },
  {
   "cell_type": "code",
   "execution_count": 162,
   "id": "c55fdf7c",
   "metadata": {},
   "outputs": [
    {
     "data": {
      "text/html": [
       "<div>\n",
       "<style scoped>\n",
       "    .dataframe tbody tr th:only-of-type {\n",
       "        vertical-align: middle;\n",
       "    }\n",
       "\n",
       "    .dataframe tbody tr th {\n",
       "        vertical-align: top;\n",
       "    }\n",
       "\n",
       "    .dataframe thead th {\n",
       "        text-align: right;\n",
       "    }\n",
       "</style>\n",
       "<table border=\"1\" class=\"dataframe\">\n",
       "  <thead>\n",
       "    <tr style=\"text-align: right;\">\n",
       "      <th></th>\n",
       "      <th>Rating</th>\n",
       "      <th>Minimum Installs</th>\n",
       "      <th>Maximum Installs</th>\n",
       "    </tr>\n",
       "  </thead>\n",
       "  <tbody>\n",
       "    <tr>\n",
       "      <th>Rating</th>\n",
       "      <td>1.000000</td>\n",
       "      <td>0.011214</td>\n",
       "      <td>0.012615</td>\n",
       "    </tr>\n",
       "    <tr>\n",
       "      <th>Minimum Installs</th>\n",
       "      <td>0.011214</td>\n",
       "      <td>1.000000</td>\n",
       "      <td>0.954037</td>\n",
       "    </tr>\n",
       "    <tr>\n",
       "      <th>Maximum Installs</th>\n",
       "      <td>0.012615</td>\n",
       "      <td>0.954037</td>\n",
       "      <td>1.000000</td>\n",
       "    </tr>\n",
       "  </tbody>\n",
       "</table>\n",
       "</div>"
      ],
      "text/plain": [
       "                    Rating  Minimum Installs  Maximum Installs\n",
       "Rating            1.000000          0.011214          0.012615\n",
       "Minimum Installs  0.011214          1.000000          0.954037\n",
       "Maximum Installs  0.012615          0.954037          1.000000"
      ]
     },
     "execution_count": 162,
     "metadata": {},
     "output_type": "execute_result"
    },
    {
     "data": {
      "image/png": "[encoded data removed]",
      "text/plain": [
       "<Figure size 1000x500 with 2 Axes>"
      ]
     },
     "metadata": {},
     "output_type": "display_data"
    }
   ],
   "source": [
    "plt.figure(figsize=(10,5))\n",
    "cor = data_frame[[\"Rating\", \"Minimum Installs\", \"Maximum Installs\"]].corr()\n",
    "sns.heatmap(cor, cmap=\"BrBG\", annot=True)\n",
    "plt.title('Матрица корреляции')\n",
    "cor"
   ]
  },
  {
   "cell_type": "markdown",
   "id": "8e298f8a",
   "metadata": {},
   "source": [
    "**Ответ:** Зависимость между рейтингом и количеством скачиваний приложения крайне мала."
   ]
  }
 ],
 "metadata": {
  "kernelspec": {
   "display_name": "Python 3 (ipykernel)",
   "language": "python",
   "name": "python3"
  },
  "language_info": {
   "codemirror_mode": {
    "name": "ipython",
    "version": 3
   },
   "file_extension": ".py",
   "mimetype": "text/x-python",
   "name": "python",
   "nbconvert_exporter": "python",
   "pygments_lexer": "ipython3",
   "version": "3.10.7"
  }
 },
 "nbformat": 4,
 "nbformat_minor": 5
}
